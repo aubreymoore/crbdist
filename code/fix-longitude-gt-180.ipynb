{
 "cells": [
  {
   "cell_type": "markdown",
   "id": "7a958f49-34f6-4de1-a577-e240b9b98558",
   "metadata": {},
   "source": [
    "This script subtracts 360 from all longitude values greater than 180."
   ]
  },
  {
   "cell_type": "code",
   "execution_count": 1,
   "id": "62c5f8e5-ba5f-47b8-8ec9-e0dd4ceb66c4",
   "metadata": {},
   "outputs": [
    {
     "name": "stdout",
     "output_type": "stream",
     "text": [
      "188.25\n",
      "187.5833\n",
      "187.3\n",
      "186.222249\n",
      "183.8\n",
      "186.009702\n",
      "184.748452\n",
      "188.1516\n",
      "202.070953\n",
      "FINISHED\n"
     ]
    }
   ],
   "source": [
    "import json\n",
    "\n",
    "with open('map.geojson', 'r') as f:\n",
    "     data = json.load(f)\n",
    "\n",
    "for feature in data['features']:\n",
    "    longitude = feature['geometry']['coordinates'][0]\n",
    "    if longitude >180:\n",
    "        print(longitude)\n",
    "        feature['geometry']['coordinates'][0] = longitude - 360.0       \n",
    "\n",
    "with open('test.geojson', 'w') as f:\n",
    "    json.dump(data, f)\n",
    "    \n",
    "print('FINISHED')"
   ]
  },
  {
   "cell_type": "code",
   "execution_count": null,
   "id": "dac05366-33a4-48c6-9eab-d9633675cd4c",
   "metadata": {},
   "outputs": [],
   "source": []
  }
 ],
 "metadata": {
  "kernelspec": {
   "display_name": "Python 3",
   "language": "python",
   "name": "python3"
  },
  "language_info": {
   "codemirror_mode": {
    "name": "ipython",
    "version": 3
   },
   "file_extension": ".py",
   "mimetype": "text/x-python",
   "name": "python",
   "nbconvert_exporter": "python",
   "pygments_lexer": "ipython3",
   "version": "3.8.8"
  }
 },
 "nbformat": 4,
 "nbformat_minor": 5
}
