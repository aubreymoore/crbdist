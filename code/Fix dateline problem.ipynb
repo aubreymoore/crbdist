{
 "cells": [
  {
   "cell_type": "markdown",
   "metadata": {},
   "source": [
    "This script simply adds 360 to all negative longitude coordinates to solve the problem of properly displaying points on both sides of the international dateline."
   ]
  },
  {
   "cell_type": "code",
   "execution_count": 1,
   "metadata": {
    "tags": []
   },
   "outputs": [],
   "source": [
    "import json"
   ]
  },
  {
   "cell_type": "code",
   "execution_count": 36,
   "metadata": {
    "collapsed": false,
    "jupyter": {
     "outputs_hidden": false
    }
   },
   "outputs": [],
   "source": [
    "with open('crbdist2.geojson', 'r') as f:\n",
    "     data = json.load(f)\n",
    "\n",
    "for feature in data['features']:\n",
    "    longitude = feature['geometry']['coordinates'][0]\n",
    "    if longitude < 0:\n",
    "        print(longitude)\n",
    "        feature['geometry']['coordinates'][0] = longitude + 360.0       \n",
    "\n",
    "with open('crbdist3.geojson', 'w') as f:\n",
    "    json.dump(data, f)"
   ]
  },
  {
   "cell_type": "code",
   "execution_count": 2,
   "metadata": {
    "tags": []
   },
   "outputs": [],
   "source": [
    "infile = 'crbdist3.geojson'\n",
    "outfile = 'crbdist4.geojson'\n",
    "\n",
    "with open(infile, 'r') as f:\n",
    "     data = json.load(f)\n"
   ]
  },
  {
   "cell_type": "code",
   "execution_count": 15,
   "metadata": {
    "collapsed": false,
    "jupyter": {
     "outputs_hidden": false
    }
   },
   "outputs": [
    {
     "data": {
      "text/plain": [
       "'Bangladesh'"
      ]
     },
     "execution_count": 15,
     "metadata": {},
     "output_type": "execute_result"
    }
   ],
   "source": [
    "data['features'][0]['properties']['Country']"
   ]
  },
  {
   "cell_type": "code",
   "execution_count": 39,
   "metadata": {
    "collapsed": false,
    "jupyter": {
     "outputs_hidden": false
    }
   },
   "outputs": [
    {
     "data": {
      "text/plain": [
       "['American Samoa(Tutuila) 1912 Catley  15',\n",
       " 'American Samoa(Tutuila) 1912 Catley  75',\n",
       " 'Bangladesh() 1800 Catley  0',\n",
       " 'Bangladesh() 1800 Catley  60',\n",
       " 'Cambodia() 1800 Nishida & Evenhuis, 2000�  118',\n",
       " 'Cambodia() 1800 Nishida & Evenhuis, 2000�  58',\n",
       " 'China(Hainan) 1800 Catley  1',\n",
       " 'China(Hainan) 1800 Catley  61',\n",
       " 'Cocos Islands() 1940 Catley  28',\n",
       " 'Cocos Islands() 1940 Catley  88',\n",
       " 'Diego Garcia() 1918 Catley date approx. 27',\n",
       " 'Diego Garcia() 1918 Catley date approx. 87',\n",
       " 'Fiji(Viiti Levu) 1952 Catley  23',\n",
       " 'Fiji(Viiti Levu) 1952 Catley  83',\n",
       " 'Guam() 2007 Moore  32',\n",
       " 'Guam() 2007 Moore  92',\n",
       " 'Hawaii(Oahu) 2013 Moore  31',\n",
       " 'Hawaii(Oahu) 2013 Moore  91',\n",
       " 'Hong Kong() 1800 Catley  69',\n",
       " 'Hong Kong() 1800 Catley  9',\n",
       " 'India(Andhra Pradesh) 1800 Pallipparambil  33',\n",
       " 'India(Andhra Pradesh) 1800 Pallipparambil  93',\n",
       " 'India(Arunachal Pradesh) 1800 Pallipparambil  34',\n",
       " 'India(Arunachal Pradesh) 1800 Pallipparambil  94',\n",
       " 'India(Assam) 1800 Pallipparambil  105',\n",
       " 'India(Assam) 1800 Pallipparambil  45',\n",
       " 'India(Bihar) 1800 Pallipparambil  112',\n",
       " 'India(Bihar) 1800 Pallipparambil  52',\n",
       " 'India(Goa) 1800 Pallipparambil  106',\n",
       " 'India(Goa) 1800 Pallipparambil  46',\n",
       " 'India(Gujarat) 1800 Pallipparambil  107',\n",
       " 'India(Gujarat) 1800 Pallipparambil  47',\n",
       " 'India(Himachal Pradesh) 1800 Pallipparambil  35',\n",
       " 'India(Himachal Pradesh) 1800 Pallipparambil  95',\n",
       " 'India(Jharkhand) 1800 Pallipparambil  113',\n",
       " 'India(Jharkhand) 1800 Pallipparambil  53',\n",
       " 'India(Karnataka) 1800 Pallipparambil  103',\n",
       " 'India(Karnataka) 1800 Pallipparambil  43',\n",
       " 'India(Kerala) 1800 Pallipparambil  38',\n",
       " 'India(Kerala) 1800 Pallipparambil  98',\n",
       " 'India(Madhya Pradesh) 1800 Pallipparambil  100',\n",
       " 'India(Madhya Pradesh) 1800 Pallipparambil  36',\n",
       " 'India(Madhya Pradesh) 1800 Pallipparambil  40',\n",
       " 'India(Madhya Pradesh) 1800 Pallipparambil  96',\n",
       " 'India(Maharashtra) 1800 Pallipparambil  104',\n",
       " 'India(Maharashtra) 1800 Pallipparambil  44',\n",
       " 'India(Manipur) 1800 Pallipparambil  101',\n",
       " 'India(Manipur) 1800 Pallipparambil  41',\n",
       " 'India(Nagaland) 1800 Pallipparambil  111',\n",
       " 'India(Nagaland) 1800 Pallipparambil  51',\n",
       " 'India(Orissa) 1800 Pallipparambil  109',\n",
       " 'India(Orissa) 1800 Pallipparambil  49',\n",
       " 'India(Rajasthan) 1800 Pallipparambil  110',\n",
       " 'India(Rajasthan) 1800 Pallipparambil  50',\n",
       " 'India(Tamil Nadu) 1800 Pallipparambil  108',\n",
       " 'India(Tamil Nadu) 1800 Pallipparambil  48',\n",
       " 'India(Tripura) 1800 Pallipparambil  102',\n",
       " 'India(Tripura) 1800 Pallipparambil  42',\n",
       " 'India(Uttar Pradesh) 1800 Pallipparambil  37',\n",
       " 'India(Uttar Pradesh) 1800 Pallipparambil  97',\n",
       " 'India(West Bengal) 1800 Pallipparambil  39',\n",
       " 'India(West Bengal) 1800 Pallipparambil  99',\n",
       " 'Indonesia(Ambon Island) 1800 Catley Aboina Island in Catley 12',\n",
       " 'Indonesia(Ambon Island) 1800 Catley Aboina Island in Catley 72',\n",
       " 'Indonesia(Seram) 1800 Catley Ceram in Catley 11',\n",
       " 'Indonesia(Seram) 1800 Catley Ceram in Catley 71',\n",
       " 'Indonesia(Sulawesi) 1800 Catley Celebes in Catley 10',\n",
       " 'Indonesia(Sulawesi) 1800 Catley Celebes in Catley 70',\n",
       " 'Laos() 1800 Nishida & Evenhuis, 2000�  116',\n",
       " 'Laos() 1800 Nishida & Evenhuis, 2000�  56',\n",
       " 'Malaysia() 1800 Catley Malay Peninsula in Catley 5',\n",
       " 'Malaysia() 1800 Catley Malay Peninsula in Catley 65',\n",
       " 'Maritius() 1962 Catley  29',\n",
       " 'Maritius() 1962 Catley  89',\n",
       " 'Mayotte()  ISSG no arrival date 117',\n",
       " 'Mayotte()  ISSG no arrival date 57',\n",
       " 'Myanmar() 1800 Catley Burma in Catley 67',\n",
       " 'Myanmar() 1800 Catley Burma in Catley 7',\n",
       " 'New Britain() 1942 Catley  19',\n",
       " 'New Britain() 1942 Catley  79',\n",
       " 'New Guinea(Pak Island) 1960 Catley  24',\n",
       " 'New Guinea(Pak Island) 1960 Catley  84',\n",
       " 'New Ireland() 1952 Catley  22',\n",
       " 'New Ireland() 1952 Catley  82',\n",
       " 'Pakistan() 1800 Catley West Pakistan in Catley 68',\n",
       " 'Pakistan() 1800 Catley West Pakistan in Catley 8',\n",
       " 'Palau() 1942 Catley  18',\n",
       " 'Palau() 1942 Catley  78',\n",
       " 'Papua New Guinea(Port Moresby) 2015 Moore  114',\n",
       " 'Papua New Guinea(Port Moresby) 2015 Moore  54',\n",
       " 'Philippines() 1800 Catley  6',\n",
       " 'Philippines() 1800 Catley  66',\n",
       " 'Reunion() 1978 ISSG  115',\n",
       " 'Reunion() 1978 ISSG  55',\n",
       " 'Samoa(Savaii) 1912 Catley  14',\n",
       " 'Samoa(Savaii) 1912 Catley  74',\n",
       " 'Samoa(Upolu) 1909 Catley  13',\n",
       " 'Samoa(Upolu) 1909 Catley  73',\n",
       " 'Solomon Islands(Guadalcanal) 2015 Moore  30',\n",
       " 'Solomon Islands(Guadalcanal) 2015 Moore  90',\n",
       " 'Sri Lanka() 1800 Catley  3',\n",
       " 'Sri Lanka() 1800 Catley  63',\n",
       " 'Taiwan() 1800 Catley Formosa in Catley 4',\n",
       " 'Taiwan() 1800 Catley Formosa in Catley 64',\n",
       " 'Thailand() 1800 Catley  2',\n",
       " 'Thailand() 1800 Catley  62',\n",
       " 'Tokelau Islands() 1963 Catley  26',\n",
       " 'Tokelau Islands() 1963 Catley  86',\n",
       " 'Tonga(Niuatoputapu) 1921 Catley Keppel Island 16',\n",
       " 'Tonga(Niuatoputapu) 1921 Catley Keppel Island 76',\n",
       " 'Tonga(Tongatapu) 1961 Catley  25',\n",
       " 'Tonga(Tongatapu) 1961 Catley  85',\n",
       " 'Tonga(Vavau) 1952 Catley  21',\n",
       " 'Tonga(Vavau) 1952 Catley  81',\n",
       " 'Vietnam() 1800 ISSG  119',\n",
       " 'Vietnam() 1800 ISSG  59',\n",
       " 'Wallis Island() 1931 Catley  17',\n",
       " 'Wallis Island() 1931 Catley  77',\n",
       " 'West Papua() 1942 Catley date approx.; West NewGuinea in Catley 20',\n",
       " 'West Papua() 1942 Catley date approx.; West NewGuinea in Catley 80']"
      ]
     },
     "execution_count": 39,
     "metadata": {},
     "output_type": "execute_result"
    }
   ],
   "source": [
    "mylist = []\n",
    "i = 0\n",
    "for feature in data['features']:\n",
    "    p = feature['properties']\n",
    "    mylist.append('{}({}) {} {} {} {}'.format(p['Country'], p['State'], p['Year'], p['Source'], p['Notes'], i))\n",
    "    i += 1\n",
    "sorted(mylist)"
   ]
  },
  {
   "cell_type": "code",
   "execution_count": 29,
   "metadata": {
    "collapsed": false,
    "jupyter": {
     "outputs_hidden": false
    }
   },
   "outputs": [
    {
     "data": {
      "text/plain": [
       "{'geometry': {'coordinates': [90.2419998721, 23.8456776713], 'type': 'Point'},\n",
       " 'properties': {'Country': 'Bangladesh',\n",
       "  'Notes': '',\n",
       "  'Source': 'Catley',\n",
       "  'State': '',\n",
       "  'Year': 1800},\n",
       " 'type': 'Feature'}"
      ]
     },
     "execution_count": 29,
     "metadata": {},
     "output_type": "execute_result"
    }
   ],
   "source": [
    "data['features'][0]"
   ]
  },
  {
   "cell_type": "code",
   "execution_count": 37,
   "metadata": {
    "tags": []
   },
   "outputs": [],
   "source": [
    "mylist"
   ]
  },
  {
   "cell_type": "code",
   "execution_count": null,
   "metadata": {
    "tags": []
   },
   "outputs": [],
   "source": []
  }
 ],
 "metadata": {
  "kernelspec": {
   "display_name": "Python 3",
   "language": "python",
   "name": "python3"
  },
  "language_info": {
   "codemirror_mode": {
    "name": "ipython",
    "version": 3
   },
   "file_extension": ".py",
   "mimetype": "text/x-python",
   "name": "python",
   "nbconvert_exporter": "python",
   "pygments_lexer": "ipython3",
   "version": "3.8.8"
  }
 },
 "nbformat": 4,
 "nbformat_minor": 4
}
