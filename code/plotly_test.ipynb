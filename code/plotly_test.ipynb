{
 "cells": [
  {
   "cell_type": "code",
   "execution_count": 98,
   "metadata": {},
   "outputs": [],
   "source": [
    "import plotly.express as px\n",
    "import pandas as pd"
   ]
  },
  {
   "cell_type": "code",
   "execution_count": 133,
   "metadata": {},
   "outputs": [
    {
     "data": {
      "text/html": [
       "<div>\n",
       "<style scoped>\n",
       "    .dataframe tbody tr th:only-of-type {\n",
       "        vertical-align: middle;\n",
       "    }\n",
       "\n",
       "    .dataframe tbody tr th {\n",
       "        vertical-align: top;\n",
       "    }\n",
       "\n",
       "    .dataframe thead th {\n",
       "        text-align: right;\n",
       "    }\n",
       "</style>\n",
       "<table border=\"1\" class=\"dataframe\">\n",
       "  <thead>\n",
       "    <tr style=\"text-align: right;\">\n",
       "      <th></th>\n",
       "      <th>Unnamed: 0</th>\n",
       "      <th>Date</th>\n",
       "      <th>Product</th>\n",
       "      <th>Level</th>\n",
       "    </tr>\n",
       "  </thead>\n",
       "  <tbody>\n",
       "    <tr>\n",
       "      <th>0</th>\n",
       "      <td>0</td>\n",
       "      <td>2007-01-01</td>\n",
       "      <td>Guam: Guam</td>\n",
       "      <td>1</td>\n",
       "    </tr>\n",
       "    <tr>\n",
       "      <th>1</th>\n",
       "      <td>1</td>\n",
       "      <td>2013-01-01</td>\n",
       "      <td>Hawaii: Oahu</td>\n",
       "      <td>1</td>\n",
       "    </tr>\n",
       "    <tr>\n",
       "      <th>2</th>\n",
       "      <td>2</td>\n",
       "      <td>2015-01-01</td>\n",
       "      <td>Papua New Guinea: Port Moresby</td>\n",
       "      <td>-2</td>\n",
       "    </tr>\n",
       "    <tr>\n",
       "      <th>3</th>\n",
       "      <td>3</td>\n",
       "      <td>2015-01-01</td>\n",
       "      <td>Solomon Islands: Guadalcanal</td>\n",
       "      <td>-3</td>\n",
       "    </tr>\n",
       "    <tr>\n",
       "      <th>4</th>\n",
       "      <td>4</td>\n",
       "      <td>2017-01-01</td>\n",
       "      <td>Solomon Islands: Savo Island</td>\n",
       "      <td>-4</td>\n",
       "    </tr>\n",
       "    <tr>\n",
       "      <th>5</th>\n",
       "      <td>5</td>\n",
       "      <td>2017-01-01</td>\n",
       "      <td>CNMI: Rota</td>\n",
       "      <td>1</td>\n",
       "    </tr>\n",
       "    <tr>\n",
       "      <th>6</th>\n",
       "      <td>6</td>\n",
       "      <td>2017-01-01</td>\n",
       "      <td>Solomon Islands: Malaita Island</td>\n",
       "      <td>-5</td>\n",
       "    </tr>\n",
       "    <tr>\n",
       "      <th>7</th>\n",
       "      <td>7</td>\n",
       "      <td>2019-01-01</td>\n",
       "      <td>Vanuatu: Efate</td>\n",
       "      <td>-2</td>\n",
       "    </tr>\n",
       "    <tr>\n",
       "      <th>8</th>\n",
       "      <td>8</td>\n",
       "      <td>2019-01-01</td>\n",
       "      <td>New Caledonia: nan</td>\n",
       "      <td>-3</td>\n",
       "    </tr>\n",
       "    <tr>\n",
       "      <th>9</th>\n",
       "      <td>9</td>\n",
       "      <td>2023-05-01</td>\n",
       "      <td>Hawaii: Kauai</td>\n",
       "      <td>1</td>\n",
       "    </tr>\n",
       "    <tr>\n",
       "      <th>10</th>\n",
       "      <td>10</td>\n",
       "      <td>2023-09-01</td>\n",
       "      <td>Republic of the Marshall Islands: Majuro</td>\n",
       "      <td>2</td>\n",
       "    </tr>\n",
       "    <tr>\n",
       "      <th>11</th>\n",
       "      <td>11</td>\n",
       "      <td>2023-10-11</td>\n",
       "      <td>Hawaii: Hawaii (Big Island)</td>\n",
       "      <td>3</td>\n",
       "    </tr>\n",
       "  </tbody>\n",
       "</table>\n",
       "</div>"
      ],
      "text/plain": [
       "    Unnamed: 0       Date                                   Product  Level\n",
       "0            0 2007-01-01                                Guam: Guam      1\n",
       "1            1 2013-01-01                              Hawaii: Oahu      1\n",
       "2            2 2015-01-01            Papua New Guinea: Port Moresby     -2\n",
       "3            3 2015-01-01              Solomon Islands: Guadalcanal     -3\n",
       "4            4 2017-01-01              Solomon Islands: Savo Island     -4\n",
       "5            5 2017-01-01                                CNMI: Rota      1\n",
       "6            6 2017-01-01           Solomon Islands: Malaita Island     -5\n",
       "7            7 2019-01-01                            Vanuatu: Efate     -2\n",
       "8            8 2019-01-01                        New Caledonia: nan     -3\n",
       "9            9 2023-05-01                             Hawaii: Kauai      1\n",
       "10          10 2023-09-01  Republic of the Marshall Islands: Majuro      2\n",
       "11          11 2023-10-11               Hawaii: Hawaii (Big Island)      3"
      ]
     },
     "execution_count": 133,
     "metadata": {},
     "output_type": "execute_result"
    }
   ],
   "source": [
    "df = pd.read_csv('timeline_2007.csv', parse_dates=['Date'])\n",
    "df"
   ]
  },
  {
   "cell_type": "code",
   "execution_count": 136,
   "metadata": {},
   "outputs": [],
   "source": [
    "df['y'] = 0\n",
    "df['size']=20"
   ]
  },
  {
   "cell_type": "code",
   "execution_count": 137,
   "metadata": {},
   "outputs": [
    {
     "data": {
      "application/vnd.plotly.v1+json": {
       "config": {
        "plotlyServerURL": "https://plot.ly"
       },
       "data": [
        {
         "hovertemplate": "Date=%{x}<br>y=%{y}<br>size=%{marker.size}<extra></extra>",
         "legendgroup": "",
         "marker": {
          "color": "#1F77B4",
          "size": [
           20,
           20,
           20,
           20,
           20,
           20,
           20,
           20,
           20,
           20,
           20,
           20
          ],
          "sizemode": "area",
          "sizeref": 0.05,
          "symbol": "circle"
         },
         "mode": "markers",
         "name": "",
         "orientation": "v",
         "showlegend": false,
         "type": "scatter",
         "x": [
          "2007-01-01T00:00:00",
          "2013-01-01T00:00:00",
          "2015-01-01T00:00:00",
          "2015-01-01T00:00:00",
          "2017-01-01T00:00:00",
          "2017-01-01T00:00:00",
          "2017-01-01T00:00:00",
          "2019-01-01T00:00:00",
          "2019-01-01T00:00:00",
          "2023-05-01T00:00:00",
          "2023-09-01T00:00:00",
          "2023-10-11T00:00:00"
         ],
         "xaxis": "x",
         "y": [
          0,
          0,
          0,
          0,
          0,
          0,
          0,
          0,
          0,
          0,
          0,
          0
         ],
         "yaxis": "y"
        }
       ],
       "layout": {
        "annotations": [
         {
          "bgcolor": "white",
          "showarrow": false,
          "text": "Guam: Guam",
          "x": "2007-01-01T00:00:00",
          "y": 0.1
         },
         {
          "bgcolor": "white",
          "showarrow": false,
          "text": "Hawaii: Oahu",
          "x": "2013-01-01T00:00:00",
          "y": 0.1
         },
         {
          "bgcolor": "white",
          "showarrow": false,
          "text": "Papua New Guinea: Port Moresby",
          "x": "2015-01-01T00:00:00",
          "y": -0.2
         },
         {
          "bgcolor": "white",
          "showarrow": false,
          "text": "Solomon Islands: Guadalcanal",
          "x": "2015-01-01T00:00:00",
          "y": -0.3
         },
         {
          "bgcolor": "white",
          "showarrow": false,
          "text": "Solomon Islands: Savo Island",
          "x": "2017-01-01T00:00:00",
          "y": -0.4
         },
         {
          "bgcolor": "white",
          "showarrow": false,
          "text": "CNMI: Rota",
          "x": "2017-01-01T00:00:00",
          "y": 0.1
         },
         {
          "bgcolor": "white",
          "showarrow": false,
          "text": "Solomon Islands: Malaita Island",
          "x": "2017-01-01T00:00:00",
          "y": -0.5
         },
         {
          "bgcolor": "white",
          "showarrow": false,
          "text": "Vanuatu: Efate",
          "x": "2019-01-01T00:00:00",
          "y": -0.2
         },
         {
          "bgcolor": "white",
          "showarrow": false,
          "text": "New Caledonia: nan",
          "x": "2019-01-01T00:00:00",
          "y": -0.3
         },
         {
          "bgcolor": "white",
          "showarrow": false,
          "text": "Hawaii: Kauai",
          "x": "2023-05-01T00:00:00",
          "y": 0.1
         },
         {
          "bgcolor": "white",
          "showarrow": false,
          "text": "Republic of the Marshall Islands: Majuro",
          "x": "2023-09-01T00:00:00",
          "y": 0.2
         },
         {
          "bgcolor": "white",
          "showarrow": false,
          "text": "Hawaii: Hawaii (Big Island)",
          "x": "2023-10-11T00:00:00",
          "y": 0.3
         }
        ],
        "legend": {
         "itemsizing": "constant",
         "tracegroupgap": 0
        },
        "margin": {
         "t": 60
        },
        "shapes": [
         {
          "line": {
           "width": 40
          },
          "type": "line",
          "x0": 0,
          "x1": 1,
          "xref": "x domain",
          "y0": 0,
          "y1": 0,
          "yref": "y"
         },
         {
          "line": {
           "width": 3
          },
          "type": "line",
          "x0": "2007-01-01T00:00:00",
          "x1": "2007-01-01T00:00:00",
          "y0": 0,
          "y1": 0.1
         },
         {
          "line": {
           "width": 3
          },
          "type": "line",
          "x0": "2013-01-01T00:00:00",
          "x1": "2013-01-01T00:00:00",
          "y0": 0,
          "y1": 0.1
         },
         {
          "line": {
           "width": 3
          },
          "type": "line",
          "x0": "2015-01-01T00:00:00",
          "x1": "2015-01-01T00:00:00",
          "y0": 0,
          "y1": -0.2
         },
         {
          "line": {
           "width": 3
          },
          "type": "line",
          "x0": "2015-01-01T00:00:00",
          "x1": "2015-01-01T00:00:00",
          "y0": 0,
          "y1": -0.3
         },
         {
          "line": {
           "width": 3
          },
          "type": "line",
          "x0": "2017-01-01T00:00:00",
          "x1": "2017-01-01T00:00:00",
          "y0": 0,
          "y1": -0.4
         },
         {
          "line": {
           "width": 3
          },
          "type": "line",
          "x0": "2017-01-01T00:00:00",
          "x1": "2017-01-01T00:00:00",
          "y0": 0,
          "y1": 0.1
         },
         {
          "line": {
           "width": 3
          },
          "type": "line",
          "x0": "2017-01-01T00:00:00",
          "x1": "2017-01-01T00:00:00",
          "y0": 0,
          "y1": -0.5
         },
         {
          "line": {
           "width": 3
          },
          "type": "line",
          "x0": "2019-01-01T00:00:00",
          "x1": "2019-01-01T00:00:00",
          "y0": 0,
          "y1": -0.2
         },
         {
          "line": {
           "width": 3
          },
          "type": "line",
          "x0": "2019-01-01T00:00:00",
          "x1": "2019-01-01T00:00:00",
          "y0": 0,
          "y1": -0.3
         },
         {
          "line": {
           "width": 3
          },
          "type": "line",
          "x0": "2023-05-01T00:00:00",
          "x1": "2023-05-01T00:00:00",
          "y0": 0,
          "y1": 0.1
         },
         {
          "line": {
           "width": 3
          },
          "type": "line",
          "x0": "2023-09-01T00:00:00",
          "x1": "2023-09-01T00:00:00",
          "y0": 0,
          "y1": 0.2
         },
         {
          "line": {
           "width": 3
          },
          "type": "line",
          "x0": "2023-10-11T00:00:00",
          "x1": "2023-10-11T00:00:00",
          "y0": 0,
          "y1": 0.3
         }
        ],
        "template": {
         "data": {
          "bar": [
           {
            "error_x": {
             "color": "rgb(36,36,36)"
            },
            "error_y": {
             "color": "rgb(36,36,36)"
            },
            "marker": {
             "line": {
              "color": "white",
              "width": 0.5
             },
             "pattern": {
              "fillmode": "overlay",
              "size": 10,
              "solidity": 0.2
             }
            },
            "type": "bar"
           }
          ],
          "barpolar": [
           {
            "marker": {
             "line": {
              "color": "white",
              "width": 0.5
             },
             "pattern": {
              "fillmode": "overlay",
              "size": 10,
              "solidity": 0.2
             }
            },
            "type": "barpolar"
           }
          ],
          "carpet": [
           {
            "aaxis": {
             "endlinecolor": "rgb(36,36,36)",
             "gridcolor": "white",
             "linecolor": "white",
             "minorgridcolor": "white",
             "startlinecolor": "rgb(36,36,36)"
            },
            "baxis": {
             "endlinecolor": "rgb(36,36,36)",
             "gridcolor": "white",
             "linecolor": "white",
             "minorgridcolor": "white",
             "startlinecolor": "rgb(36,36,36)"
            },
            "type": "carpet"
           }
          ],
          "choropleth": [
           {
            "colorbar": {
             "outlinewidth": 1,
             "tickcolor": "rgb(36,36,36)",
             "ticks": "outside"
            },
            "type": "choropleth"
           }
          ],
          "contour": [
           {
            "colorbar": {
             "outlinewidth": 1,
             "tickcolor": "rgb(36,36,36)",
             "ticks": "outside"
            },
            "colorscale": [
             [
              0,
              "#440154"
             ],
             [
              0.1111111111111111,
              "#482878"
             ],
             [
              0.2222222222222222,
              "#3e4989"
             ],
             [
              0.3333333333333333,
              "#31688e"
             ],
             [
              0.4444444444444444,
              "#26828e"
             ],
             [
              0.5555555555555556,
              "#1f9e89"
             ],
             [
              0.6666666666666666,
              "#35b779"
             ],
             [
              0.7777777777777778,
              "#6ece58"
             ],
             [
              0.8888888888888888,
              "#b5de2b"
             ],
             [
              1,
              "#fde725"
             ]
            ],
            "type": "contour"
           }
          ],
          "contourcarpet": [
           {
            "colorbar": {
             "outlinewidth": 1,
             "tickcolor": "rgb(36,36,36)",
             "ticks": "outside"
            },
            "type": "contourcarpet"
           }
          ],
          "heatmap": [
           {
            "colorbar": {
             "outlinewidth": 1,
             "tickcolor": "rgb(36,36,36)",
             "ticks": "outside"
            },
            "colorscale": [
             [
              0,
              "#440154"
             ],
             [
              0.1111111111111111,
              "#482878"
             ],
             [
              0.2222222222222222,
              "#3e4989"
             ],
             [
              0.3333333333333333,
              "#31688e"
             ],
             [
              0.4444444444444444,
              "#26828e"
             ],
             [
              0.5555555555555556,
              "#1f9e89"
             ],
             [
              0.6666666666666666,
              "#35b779"
             ],
             [
              0.7777777777777778,
              "#6ece58"
             ],
             [
              0.8888888888888888,
              "#b5de2b"
             ],
             [
              1,
              "#fde725"
             ]
            ],
            "type": "heatmap"
           }
          ],
          "heatmapgl": [
           {
            "colorbar": {
             "outlinewidth": 1,
             "tickcolor": "rgb(36,36,36)",
             "ticks": "outside"
            },
            "colorscale": [
             [
              0,
              "#440154"
             ],
             [
              0.1111111111111111,
              "#482878"
             ],
             [
              0.2222222222222222,
              "#3e4989"
             ],
             [
              0.3333333333333333,
              "#31688e"
             ],
             [
              0.4444444444444444,
              "#26828e"
             ],
             [
              0.5555555555555556,
              "#1f9e89"
             ],
             [
              0.6666666666666666,
              "#35b779"
             ],
             [
              0.7777777777777778,
              "#6ece58"
             ],
             [
              0.8888888888888888,
              "#b5de2b"
             ],
             [
              1,
              "#fde725"
             ]
            ],
            "type": "heatmapgl"
           }
          ],
          "histogram": [
           {
            "marker": {
             "line": {
              "color": "white",
              "width": 0.6
             }
            },
            "type": "histogram"
           }
          ],
          "histogram2d": [
           {
            "colorbar": {
             "outlinewidth": 1,
             "tickcolor": "rgb(36,36,36)",
             "ticks": "outside"
            },
            "colorscale": [
             [
              0,
              "#440154"
             ],
             [
              0.1111111111111111,
              "#482878"
             ],
             [
              0.2222222222222222,
              "#3e4989"
             ],
             [
              0.3333333333333333,
              "#31688e"
             ],
             [
              0.4444444444444444,
              "#26828e"
             ],
             [
              0.5555555555555556,
              "#1f9e89"
             ],
             [
              0.6666666666666666,
              "#35b779"
             ],
             [
              0.7777777777777778,
              "#6ece58"
             ],
             [
              0.8888888888888888,
              "#b5de2b"
             ],
             [
              1,
              "#fde725"
             ]
            ],
            "type": "histogram2d"
           }
          ],
          "histogram2dcontour": [
           {
            "colorbar": {
             "outlinewidth": 1,
             "tickcolor": "rgb(36,36,36)",
             "ticks": "outside"
            },
            "colorscale": [
             [
              0,
              "#440154"
             ],
             [
              0.1111111111111111,
              "#482878"
             ],
             [
              0.2222222222222222,
              "#3e4989"
             ],
             [
              0.3333333333333333,
              "#31688e"
             ],
             [
              0.4444444444444444,
              "#26828e"
             ],
             [
              0.5555555555555556,
              "#1f9e89"
             ],
             [
              0.6666666666666666,
              "#35b779"
             ],
             [
              0.7777777777777778,
              "#6ece58"
             ],
             [
              0.8888888888888888,
              "#b5de2b"
             ],
             [
              1,
              "#fde725"
             ]
            ],
            "type": "histogram2dcontour"
           }
          ],
          "mesh3d": [
           {
            "colorbar": {
             "outlinewidth": 1,
             "tickcolor": "rgb(36,36,36)",
             "ticks": "outside"
            },
            "type": "mesh3d"
           }
          ],
          "parcoords": [
           {
            "line": {
             "colorbar": {
              "outlinewidth": 1,
              "tickcolor": "rgb(36,36,36)",
              "ticks": "outside"
             }
            },
            "type": "parcoords"
           }
          ],
          "pie": [
           {
            "automargin": true,
            "type": "pie"
           }
          ],
          "scatter": [
           {
            "fillpattern": {
             "fillmode": "overlay",
             "size": 10,
             "solidity": 0.2
            },
            "type": "scatter"
           }
          ],
          "scatter3d": [
           {
            "line": {
             "colorbar": {
              "outlinewidth": 1,
              "tickcolor": "rgb(36,36,36)",
              "ticks": "outside"
             }
            },
            "marker": {
             "colorbar": {
              "outlinewidth": 1,
              "tickcolor": "rgb(36,36,36)",
              "ticks": "outside"
             }
            },
            "type": "scatter3d"
           }
          ],
          "scattercarpet": [
           {
            "marker": {
             "colorbar": {
              "outlinewidth": 1,
              "tickcolor": "rgb(36,36,36)",
              "ticks": "outside"
             }
            },
            "type": "scattercarpet"
           }
          ],
          "scattergeo": [
           {
            "marker": {
             "colorbar": {
              "outlinewidth": 1,
              "tickcolor": "rgb(36,36,36)",
              "ticks": "outside"
             }
            },
            "type": "scattergeo"
           }
          ],
          "scattergl": [
           {
            "marker": {
             "colorbar": {
              "outlinewidth": 1,
              "tickcolor": "rgb(36,36,36)",
              "ticks": "outside"
             }
            },
            "type": "scattergl"
           }
          ],
          "scattermapbox": [
           {
            "marker": {
             "colorbar": {
              "outlinewidth": 1,
              "tickcolor": "rgb(36,36,36)",
              "ticks": "outside"
             }
            },
            "type": "scattermapbox"
           }
          ],
          "scatterpolar": [
           {
            "marker": {
             "colorbar": {
              "outlinewidth": 1,
              "tickcolor": "rgb(36,36,36)",
              "ticks": "outside"
             }
            },
            "type": "scatterpolar"
           }
          ],
          "scatterpolargl": [
           {
            "marker": {
             "colorbar": {
              "outlinewidth": 1,
              "tickcolor": "rgb(36,36,36)",
              "ticks": "outside"
             }
            },
            "type": "scatterpolargl"
           }
          ],
          "scatterternary": [
           {
            "marker": {
             "colorbar": {
              "outlinewidth": 1,
              "tickcolor": "rgb(36,36,36)",
              "ticks": "outside"
             }
            },
            "type": "scatterternary"
           }
          ],
          "surface": [
           {
            "colorbar": {
             "outlinewidth": 1,
             "tickcolor": "rgb(36,36,36)",
             "ticks": "outside"
            },
            "colorscale": [
             [
              0,
              "#440154"
             ],
             [
              0.1111111111111111,
              "#482878"
             ],
             [
              0.2222222222222222,
              "#3e4989"
             ],
             [
              0.3333333333333333,
              "#31688e"
             ],
             [
              0.4444444444444444,
              "#26828e"
             ],
             [
              0.5555555555555556,
              "#1f9e89"
             ],
             [
              0.6666666666666666,
              "#35b779"
             ],
             [
              0.7777777777777778,
              "#6ece58"
             ],
             [
              0.8888888888888888,
              "#b5de2b"
             ],
             [
              1,
              "#fde725"
             ]
            ],
            "type": "surface"
           }
          ],
          "table": [
           {
            "cells": {
             "fill": {
              "color": "rgb(237,237,237)"
             },
             "line": {
              "color": "white"
             }
            },
            "header": {
             "fill": {
              "color": "rgb(217,217,217)"
             },
             "line": {
              "color": "white"
             }
            },
            "type": "table"
           }
          ]
         },
         "layout": {
          "annotationdefaults": {
           "arrowhead": 0,
           "arrowwidth": 1
          },
          "autotypenumbers": "strict",
          "coloraxis": {
           "colorbar": {
            "outlinewidth": 1,
            "tickcolor": "rgb(36,36,36)",
            "ticks": "outside"
           }
          },
          "colorscale": {
           "diverging": [
            [
             0,
             "rgb(103,0,31)"
            ],
            [
             0.1,
             "rgb(178,24,43)"
            ],
            [
             0.2,
             "rgb(214,96,77)"
            ],
            [
             0.3,
             "rgb(244,165,130)"
            ],
            [
             0.4,
             "rgb(253,219,199)"
            ],
            [
             0.5,
             "rgb(247,247,247)"
            ],
            [
             0.6,
             "rgb(209,229,240)"
            ],
            [
             0.7,
             "rgb(146,197,222)"
            ],
            [
             0.8,
             "rgb(67,147,195)"
            ],
            [
             0.9,
             "rgb(33,102,172)"
            ],
            [
             1,
             "rgb(5,48,97)"
            ]
           ],
           "sequential": [
            [
             0,
             "#440154"
            ],
            [
             0.1111111111111111,
             "#482878"
            ],
            [
             0.2222222222222222,
             "#3e4989"
            ],
            [
             0.3333333333333333,
             "#31688e"
            ],
            [
             0.4444444444444444,
             "#26828e"
            ],
            [
             0.5555555555555556,
             "#1f9e89"
            ],
            [
             0.6666666666666666,
             "#35b779"
            ],
            [
             0.7777777777777778,
             "#6ece58"
            ],
            [
             0.8888888888888888,
             "#b5de2b"
            ],
            [
             1,
             "#fde725"
            ]
           ],
           "sequentialminus": [
            [
             0,
             "#440154"
            ],
            [
             0.1111111111111111,
             "#482878"
            ],
            [
             0.2222222222222222,
             "#3e4989"
            ],
            [
             0.3333333333333333,
             "#31688e"
            ],
            [
             0.4444444444444444,
             "#26828e"
            ],
            [
             0.5555555555555556,
             "#1f9e89"
            ],
            [
             0.6666666666666666,
             "#35b779"
            ],
            [
             0.7777777777777778,
             "#6ece58"
            ],
            [
             0.8888888888888888,
             "#b5de2b"
            ],
            [
             1,
             "#fde725"
            ]
           ]
          },
          "colorway": [
           "#1F77B4",
           "#FF7F0E",
           "#2CA02C",
           "#D62728",
           "#9467BD",
           "#8C564B",
           "#E377C2",
           "#7F7F7F",
           "#BCBD22",
           "#17BECF"
          ],
          "font": {
           "color": "rgb(36,36,36)"
          },
          "geo": {
           "bgcolor": "white",
           "lakecolor": "white",
           "landcolor": "white",
           "showlakes": true,
           "showland": true,
           "subunitcolor": "white"
          },
          "hoverlabel": {
           "align": "left"
          },
          "hovermode": "closest",
          "mapbox": {
           "style": "light"
          },
          "paper_bgcolor": "white",
          "plot_bgcolor": "white",
          "polar": {
           "angularaxis": {
            "gridcolor": "rgb(232,232,232)",
            "linecolor": "rgb(36,36,36)",
            "showgrid": false,
            "showline": true,
            "ticks": "outside"
           },
           "bgcolor": "white",
           "radialaxis": {
            "gridcolor": "rgb(232,232,232)",
            "linecolor": "rgb(36,36,36)",
            "showgrid": false,
            "showline": true,
            "ticks": "outside"
           }
          },
          "scene": {
           "xaxis": {
            "backgroundcolor": "white",
            "gridcolor": "rgb(232,232,232)",
            "gridwidth": 2,
            "linecolor": "rgb(36,36,36)",
            "showbackground": true,
            "showgrid": false,
            "showline": true,
            "ticks": "outside",
            "zeroline": false,
            "zerolinecolor": "rgb(36,36,36)"
           },
           "yaxis": {
            "backgroundcolor": "white",
            "gridcolor": "rgb(232,232,232)",
            "gridwidth": 2,
            "linecolor": "rgb(36,36,36)",
            "showbackground": true,
            "showgrid": false,
            "showline": true,
            "ticks": "outside",
            "zeroline": false,
            "zerolinecolor": "rgb(36,36,36)"
           },
           "zaxis": {
            "backgroundcolor": "white",
            "gridcolor": "rgb(232,232,232)",
            "gridwidth": 2,
            "linecolor": "rgb(36,36,36)",
            "showbackground": true,
            "showgrid": false,
            "showline": true,
            "ticks": "outside",
            "zeroline": false,
            "zerolinecolor": "rgb(36,36,36)"
           }
          },
          "shapedefaults": {
           "fillcolor": "black",
           "line": {
            "width": 0
           },
           "opacity": 0.3
          },
          "ternary": {
           "aaxis": {
            "gridcolor": "rgb(232,232,232)",
            "linecolor": "rgb(36,36,36)",
            "showgrid": false,
            "showline": true,
            "ticks": "outside"
           },
           "baxis": {
            "gridcolor": "rgb(232,232,232)",
            "linecolor": "rgb(36,36,36)",
            "showgrid": false,
            "showline": true,
            "ticks": "outside"
           },
           "bgcolor": "white",
           "caxis": {
            "gridcolor": "rgb(232,232,232)",
            "linecolor": "rgb(36,36,36)",
            "showgrid": false,
            "showline": true,
            "ticks": "outside"
           }
          },
          "title": {
           "x": 0.05
          },
          "xaxis": {
           "automargin": true,
           "gridcolor": "rgb(232,232,232)",
           "linecolor": "rgb(36,36,36)",
           "showgrid": false,
           "showline": true,
           "ticks": "outside",
           "title": {
            "standoff": 15
           },
           "zeroline": false,
           "zerolinecolor": "rgb(36,36,36)"
          },
          "yaxis": {
           "automargin": true,
           "gridcolor": "rgb(232,232,232)",
           "linecolor": "rgb(36,36,36)",
           "showgrid": false,
           "showline": true,
           "ticks": "outside",
           "title": {
            "standoff": 15
           },
           "zeroline": false,
           "zerolinecolor": "rgb(36,36,36)"
          }
         }
        },
        "xaxis": {
         "anchor": "y",
         "domain": [
          0,
          1
         ],
         "title": {
          "text": "Date"
         }
        },
        "yaxis": {
         "anchor": "x",
         "domain": [
          0,
          1
         ],
         "title": {
          "text": "y"
         }
        }
       }
      }
     },
     "metadata": {},
     "output_type": "display_data"
    }
   ],
   "source": [
    "# this is the best\n",
    "\n",
    "fig = px.scatter(df, x='Date', y='y', size='size', template='simple_white')\n",
    "fig.add_hline(y=0, line_width=40)\n",
    "\n",
    "for i, r in df.iterrows():\n",
    "    fig.add_annotation(\n",
    "        x=r.Date, \n",
    "        y=r.Level / 10,\n",
    "        text=r.Product,\n",
    "        showarrow=False,\n",
    "        bgcolor='white'\n",
    "    )\n",
    "    fig.add_shape(\n",
    "        type=\"line\", \n",
    "        line_width=3,  \n",
    "        x0=r.Date,\n",
    "        y0=0, \n",
    "        x1=r.Date, \n",
    "        y1=r.Level / 10\n",
    "    )\n",
    "fig.show()"
   ]
  },
  {
   "cell_type": "code",
   "execution_count": 102,
   "metadata": {},
   "outputs": [
    {
     "data": {
      "application/vnd.plotly.v1+json": {
       "config": {
        "plotlyServerURL": "https://plot.ly"
       },
       "data": [
        {
         "marker": {
          "color": "LightSkyBlue",
          "line": {
           "color": "MediumPurple",
           "width": 2
          },
          "size": 20
         },
         "mode": "markers",
         "showlegend": false,
         "type": "scatter",
         "x": [
          4.251066014107722,
          5.160973480326474,
          3.0003431244520344,
          3.9069977178955195,
          3.440267672451339,
          3.2770157843063936,
          3.558780634133013,
          4.036682181129143,
          4.19030242269201,
          4.616450202010071,
          4.2575835432098845,
          5.055658501190278,
          3.613356749194552,
          5.6343523091728365,
          3.0821627795937783,
          5.011402530535207,
          4.251914407101381,
          4.676069485337255,
          3.421160815785701,
          3.5943044672546365,
          5.40223370602661,
          5.904784727158193,
          3.9402725344777285,
          5.076967847007943,
          5.629167456888115,
          5.683819990511542,
          3.2551326341093336,
          3.117164349698647,
          3.5094912586937066,
          5.634427510288239,
          3.2950405014991504,
          4.263322875015156,
          5.873668590451506,
          4.599495854919051,
          5.07563134185142,
          3.946546893018189,
          5.059502783044751,
          5.503877015692119,
          3.0548648320325755,
          5.250432944834902,
          5.966583266719484,
          5.244496963139518,
          3.8413319761932154,
          5.367837985354465,
          3.3096780197329263,
          4.3436805785277155,
          5.725786509279287,
          3.8808424451210386,
          3.8633260157590463,
          3.3900857163548332,
          3.0581008736108912,
          5.036506598819673,
          3.634884348000177,
          3.7966399781166786,
          4.474719477841015,
          3.1600876353512413,
          4.7223528164760395,
          3.4401857247174306,
          4.767916610709853,
          5.099275080062793,
          3.3070032864834777,
          4.242167963458705,
          5.083200473183235,
          4.242537808580708,
          3.1498603768382614,
          4.607689217746534,
          4.991383935659366,
          4.544667336174926,
          5.83378426797244,
          4.759665121505979,
          5.71020574586365,
          3.4124241124387127,
          3.4178290417522756,
          5.422173866128571,
          4.193030510956601,
          3.4960625913507983,
          5.782525741188102,
          4.043297579236519,
          5.252436309408466,
          5.177993956051354,
          5.64991827361743,
          4.871016621166826,
          5.252827302082012,
          4.046695025933527,
          3.809783675295078,
          5.6876586545882,
          4.284273569613885,
          5.894520141445157,
          4.990324493455344,
          4.865087160627366,
          3.3442379188601254,
          5.848467776121214,
          4.349736400439822,
          4.735168843161395,
          4.224410408283843,
          3.711080940729083,
          5.710138561686762,
          4.721038460016858,
          3.0086109810934767,
          4.851434740862172,
          3.9799347053162886,
          4.581174306772828,
          5.657826297932323,
          4.0718092800075,
          5.725605452759398,
          4.870080347375408,
          3.047463728539669,
          5.788311701231284,
          5.072690752550772,
          5.991968551354441,
          3.5170215250359855,
          3.411407248886633,
          5.797786389111491,
          5.090454484469701,
          3.1980005181661877,
          5.266389157807399,
          5.261628565383739,
          5.76907360663945,
          5.134574275885415,
          3.372812885916494,
          3.0596404015193865,
          3.0786329606331577,
          3.084919464062384,
          3.7386332028091376,
          5.580083846048664,
          4.616493193024958,
          4.658465936057297,
          5.526092677078817,
          3.372519945359733,
          3.8375510370334185,
          4.757277814374864,
          5.908787244959024,
          4.68309065776713,
          3.055941868118829,
          5.401898018041849,
          3.698922821523061,
          5.421315586856338,
          4.163581932192516,
          5.590625563678286,
          5.241364928211554,
          4.668720701971257,
          3.409365676982055,
          3.179753068536635,
          3.3640303672222123,
          3.1336556356342853,
          3.3224823873182787,
          3.677128015823564,
          5.1389669411480305,
          4.679150946162427,
          3.0376679404773475,
          3.2159228390684604,
          5.901828990000816,
          4.704301385759827,
          3.6098797039829713,
          3.75697723371097,
          5.231477562225279,
          3.5862884433279563,
          4.744076781819773,
          5.910059967264937,
          5.540486404470106,
          3.7195432774427584,
          4.4813091428061895,
          4.859867155144139,
          5.486942698650536,
          3.4703741839382527,
          3.0557286065322287,
          3.210066431157667,
          4.459035332811095,
          4.818988384959991,
          4.706554311259444,
          3.9520872279664823,
          5.9658484632373465,
          4.739235657737391,
          4.140423517870651,
          4.652844657353691,
          5.236003292719506,
          5.007698680359554,
          3.7947586729884284,
          3.199004503285325,
          4.110252593742318,
          4.889152521064693,
          3.630522029744519,
          5.2582666612164415,
          3.199609444062345,
          3.7809452957356227,
          5.414263691230037,
          3.580302847869983,
          4.91838264263982,
          4.5740109273712015,
          5.774423911198053,
          3.789890311461333,
          3.1978832720520716,
          5.2051978898660085,
          5.316534088629741,
          5.723447557510572,
          5.795916207590512,
          3.041854718926791,
          3.7030862583642614,
          4.850335071004973,
          5.84704896206285,
          5.850528357741239,
          4.6699595645854695,
          5.746819049298823,
          4.924698626839012,
          4.170023142423739,
          4.457972001290729,
          4.81293144875992,
          4.648643764525688,
          5.778544280119361,
          5.756200306900818,
          4.184626838770665,
          5.889787585322136,
          3.521867000041393,
          3.378988558318912,
          3.405237474140194,
          4.51698649703069,
          3.064574415822594,
          5.843910633653043,
          5.481346413512197,
          3.045056942226367,
          3.5285887667251656,
          3.996190723100511,
          3.3929905344327507,
          5.428472076379746,
          4.03420995804988,
          5.820322447000102,
          4.74604253984124,
          5.636495953235532,
          5.534203336176666,
          5.716176956125947,
          4.379640797450421,
          4.63904044806112,
          5.395810773456118,
          3.857156555202443,
          4.470760567859783,
          4.797330922937635,
          3.046599826652507,
          4.780444224589912,
          4.301029046968375,
          5.422081586654524,
          3.9457344092861186,
          5.678666125575454,
          4.733571645853607,
          3.552030604882395,
          5.363787701476513,
          4.836093531134802,
          3.161727816221259,
          4.260581040003396,
          5.037206509696289,
          5.755805333932578,
          3.001206074674072,
          5.930277447093179,
          4.129740944237323,
          5.921350615074967,
          4.81414830292216,
          5.486537423942079,
          4.724134514124307,
          4.884228594922051,
          3.8567288450870816,
          4.760500021968249,
          5.25006529110798,
          5.574941509287127,
          5.26524656540304,
          5.094171745341908,
          5.5934382901638,
          3.9680429905102392,
          5.012366372362761,
          4.3526218092400475,
          4.146308256094551,
          4.232434049766557,
          4.204438750408622,
          3.9521518378748306,
          4.865758103760904,
          4.290741812463793,
          5.921406233781757,
          5.033402674302933,
          3.5957096652813325,
          4.280103028044098,
          4.030038719323269,
          5.392916411875699,
          5.639994865690295,
          5.711525867479116,
          4.988159437125787,
          3.8106247860892735,
          3.757100104513769,
          5.564693828092207,
          4.58314393892624,
          5.406483252013794,
          4.7174655515748185,
          5.199427575862533,
          4.557034882392168,
          5.312651731505664,
          4.706573972114146,
          4.397129635775943,
          4.028066723859846,
          3.2046280452501126,
          4.133772537984299,
          3.238878233094757,
          5.948451341191335,
          3.5448385539922915,
          5.435576093161619,
          5.624884934867694,
          5.06523975715783,
          4.708483238236127,
          3.4829143104468265,
          4.400640068289919,
          4.035516153465645,
          3.6751198734422537,
          4.77753560629739,
          3.936809513105751,
          5.748916660405053,
          5.728906574854671,
          3.7713548813465887,
          3.3326739022320875,
          3.5788881960573384,
          4.498752512036658,
          5.185757003923788,
          3.6245833152263742,
          3.7441006751316923,
          5.555015624809101,
          4.247546154802582,
          4.850055201465708,
          3.7009984177177504,
          3.3059017782773923,
          4.5475710509055896,
          4.431422961149347,
          3.4580149322794895,
          4.865418695221246,
          4.632030356441814,
          4.962412040912233,
          3.4336366203739797,
          5.254583451405732,
          3.666147419399768,
          4.558055473098099,
          5.355888084664857,
          3.0669912839754185,
          3.9730873791785593,
          5.618767129200333,
          5.534128822806209,
          4.615321777783631,
          5.599824822499539,
          5.84941797406088,
          5.479220992888024,
          5.562346331509616,
          3.296230205461045,
          4.953912997022973,
          5.110550964457959,
          4.8307224379398885,
          5.398845785208084,
          3.1037136596149026,
          5.31071620366494,
          5.195185802218581,
          3.779095179895059,
          3.77120789646644,
          4.896909952290383,
          4.035892384773245,
          5.3897660340218625,
          4.338438696010372,
          5.348248244352516,
          5.971415350871522,
          3.9007450186017003,
          3.429017484774298,
          5.703925309047822,
          4.624678136662119,
          5.924221112565247,
          4.909813200005692,
          5.981739073831436,
          4.638212412428855,
          4.579277801716564,
          3.4062837092165097,
          4.067115512951643,
          3.0786557018891196,
          3.481185538558947,
          5.236911578122488,
          3.0911990697863665,
          4.099629291731233,
          5.587038758514132,
          5.078033152522063,
          5.072826426198506,
          3.5659104028659327,
          4.32571284224527,
          4.744732222032874,
          5.9692551229911155,
          3.6117186756993656,
          3.7431987052870648,
          3.786519251318736,
          5.250517239893979,
          4.370925982307078,
          3.1707883152332847,
          4.525548721830718,
          3.635880493931028,
          5.39581273428063,
          3.8919941445218167,
          3.082818035863511,
          4.780297348393863,
          5.531521286793566,
          4.143048372186643,
          5.24957493217843,
          4.533424434891384,
          4.6228554148865655,
          5.8783029631852575,
          5.41188267449594,
          3.096969199870722,
          5.1281617536938855,
          4.395004444690518,
          5.8426468241853,
          3.664298202970465,
          3.8012160590530972,
          3.244421894631786,
          4.28585648599136,
          3.327056292057205,
          4.901360281835753,
          5.408889712121214,
          5.090401488360536,
          5.298634143227312,
          4.027362359530559,
          5.537554449083033,
          4.2863063249983275,
          5.472029611236956,
          4.879488475872881,
          3.4302691460107346,
          3.235160699564844,
          3.054997928739022,
          3.200174992918069,
          4.375751441125296,
          3.3400257683027714,
          3.08335004654601,
          5.264584444171402,
          4.1845514413819185,
          5.240815486822576,
          4.357214480239355,
          4.3502602410022835,
          4.434217520153493,
          4.422011779686582,
          5.4094900263425085,
          4.207177559573207,
          5.714058481030869,
          3.1111831438621076,
          5.321623028161256,
          3.3769241434132162,
          4.855540700736256,
          3.031092784005696,
          4.615881847729041,
          3.009053869858789,
          5.853581356470613,
          5.716206101108334,
          5.387900825826808,
          5.745822959744363,
          3.436674693475191,
          3.4731902096116,
          3.562895018707302,
          4.867487706899763,
          5.717428488024906,
          5.969865535077221,
          5.133367376297448,
          5.195401227426886,
          5.727879613632764,
          4.202621197113363,
          3.7495520406751104,
          3.5202905123613686,
          3.358371151001187,
          5.437831764098486,
          3.4403771202517293,
          3.792892448180702,
          5.457267535900592,
          3.93176175538263,
          5.947252347878829,
          3.799916106454906,
          4.600960034913634,
          3.943401033557549,
          5.732318493521513,
          4.099669931553703,
          4.300776981819494,
          4.536878076835084,
          5.81665943210914,
          3.092847018813452,
          5.150635990895068,
          5.673056862877017,
          3.0818616705524065,
          4.566153741757532,
          3.977969435310076,
          5.578467962596758,
          4.675549652767554,
          5.070683604488243,
          4.358560499854613,
          4.884927112564071,
          3.8702905550622777,
          3.0280457338995475,
          4.730267804961272,
          3.9343326423973886,
          4.55180279550339,
          5.749217559161693,
          4.2794243655041875,
          3.7421881098071563,
          4.113881283837163,
          5.795583349909622,
          5.8106051439272814,
          5.53298984569714,
          5.760619542916981,
          3.6837008698539506
         ],
         "y": [
          3.2624466286607725,
          3.6819292088540663,
          3.943129848342151,
          3.5242976290689345,
          4.821282485917381,
          4.240759245003484,
          5.449054535481642,
          3.555391194807092,
          5.105629589268931,
          3.7210668745474167,
          4.722657266522579,
          4.0469627916623665,
          3.170893198448498,
          3.6864410128811276,
          4.992307666064381,
          4.491750280081594,
          4.557047952221036,
          3.5241604503267676,
          4.7121475546387686,
          5.99026027562463,
          5.4505053263748655,
          4.783117871492934,
          5.927967204992715,
          5.7046877540079635,
          4.7868238008079365,
          3.097278975943371,
          3.280731287452442,
          3.1961151451266794,
          4.355199446074426,
          4.126304499503574,
          5.926050102810859,
          3.503949879598845,
          5.9183627757979655,
          5.302424606589039,
          5.472713518873493,
          4.897847450333992,
          5.006198310620196,
          4.43064700056358,
          3.0394090707692167,
          4.059018256625475,
          4.4762154044806755,
          5.190273633270313,
          4.405885028238328,
          4.372214748268295,
          3.4129882228368094,
          3.032666201410437,
          5.274834781430989,
          3.9598585142330354,
          5.9531503505805325,
          3.660702678477468,
          4.016124076445039,
          4.571688406998395,
          5.264674371181599,
          4.391573351700886,
          3.3744676293350286,
          3.9375041354761486,
          4.513557509102984,
          5.021547024050603,
          5.310449868936276,
          3.391007342863063,
          3.0687453939671454,
          4.557246966635969,
          5.429966131987249,
          3.037811301089629,
          5.017409533961201,
          5.060424679970975,
          4.347740260759913,
          5.744366060225802,
          4.933083254270979,
          3.0157195129543974,
          4.453285336543127,
          5.5779534182928,
          5.491198710112018,
          4.947462591337434,
          5.021095271695895,
          4.735498739367602,
          3.8223593255005563,
          4.681589971608176,
          5.015189354452261,
          4.057288890649227,
          5.5674851017617835,
          3.585112458026122,
          5.24196243099577,
          3.868808238560632,
          5.321397861732546,
          4.283211988008229,
          5.423095227336629,
          4.060604588003971,
          3.6410797128887435,
          5.301853525265299,
          3.9259258428919535,
          5.199735203179283,
          5.233419459233197,
          3.664190102724603,
          3.6423364104619456,
          3.5968437702812,
          3.427555013297534,
          4.131247797622002,
          3.079883654074864,
          3.332761107102722,
          5.023692071290231,
          5.399329610692159,
          3.241588581385158,
          3.695106931457376,
          3.622876985411443,
          5.752000689244892,
          5.13394355440946,
          4.661653833154243,
          3.913553963761861,
          5.504562142895395,
          4.30591787288856,
          5.770368645356326,
          5.118155413007799,
          4.43409392389585,
          3.378630311248076,
          5.928130651403243,
          3.4795009510322803,
          3.6078063756589875,
          4.293545265481113,
          4.212605717325442,
          3.4402544422928822,
          5.18795675808337,
          3.566235200631558,
          4.931686932934989,
          5.262917851728896,
          3.6321971762499623,
          4.80286274432292,
          5.246785125737509,
          4.914656131861,
          4.791381908839947,
          3.886446856966491,
          5.1948194137245265,
          5.835925319999849,
          4.276684170784641,
          5.346545450494216,
          3.168423118985746,
          5.505814807469898,
          3.576750050466443,
          4.18529060666992,
          3.9002431377760693,
          3.240310931418148,
          5.7138930088087285,
          4.110462532661215,
          4.592092315428419,
          4.482348797688975,
          3.3964834258288144,
          3.6193621766682993,
          3.2285664270969634,
          4.523765099835862,
          3.7846486554989616,
          4.071184826648375,
          3.3241959860917105,
          5.362655518957522,
          3.319751630366403,
          5.9571264711395635,
          3.531483493315252,
          4.717215337303948,
          3.1345360037672645,
          5.361348868967502,
          3.5688178434548896,
          4.58371193522438,
          5.220232629477215,
          3.4497944547517676,
          4.653261522560915,
          3.649851624986338,
          5.277588147951434,
          5.1687455806686415,
          3.529647102831249,
          5.5858996730012205,
          3.059325298549033,
          5.580710992269346,
          4.676711433482815,
          4.209661416317548,
          5.27624079306701,
          5.15078700507741,
          5.961978524425279,
          3.834255145838948,
          3.011381017228028,
          5.801707824944663,
          5.573691313613681,
          5.186552632557768,
          4.550066348764615,
          5.120868735746283,
          5.3415886706302285,
          4.124627830610578,
          5.3109675759898725,
          5.251872957525526,
          4.839633634632779,
          4.205597771903513,
          5.0919240577930225,
          3.0093385734755764,
          5.324689940173793,
          5.68924980737054,
          3.717947122312514,
          3.362301552927689,
          3.660851963381183,
          3.9062901938702947,
          5.649085525691502,
          4.629499290714284,
          3.860134948819292,
          3.4150640693788397,
          3.870433389313625,
          4.841613269223758,
          3.97241558969234,
          4.372080545072995,
          4.332351321049844,
          5.484406082194536,
          4.279044462708692,
          4.037096463526507,
          5.024914814427316,
          3.664446167200586,
          4.401737471779661,
          3.9442970619720494,
          4.880566806488504,
          5.632081424084438,
          4.343067000436886,
          5.353372256375769,
          4.370897101684651,
          4.968687995151394,
          3.3955229250825063,
          4.298944520902944,
          5.72793596596481,
          4.816437003092804,
          5.300323761711306,
          4.514101824287684,
          4.494166874484023,
          5.52869952057855,
          3.203420803022861,
          4.719816814649054,
          5.828287726298848,
          4.553580144516966,
          3.5833974285836536,
          5.5438181773304285,
          3.7549174270675585,
          5.102178109447614,
          4.6207828211907,
          5.846508864840659,
          4.873010107208028,
          5.513933886143188,
          3.0237986285835694,
          5.968020168499914,
          3.2331437109971595,
          3.9663885408443087,
          5.838457186370296,
          3.026817307113735,
          5.468190016265806,
          5.583634915100383,
          4.319492442625718,
          3.7672355814177934,
          5.408068558899895,
          4.433586013296663,
          3.4030158259670884,
          5.783546978475032,
          5.687909901019945,
          4.4746354500508065,
          5.570107489553377,
          4.255734077292296,
          5.050394700498903,
          4.193971918223768,
          4.517226052352431,
          3.568655108501782,
          5.894966772332742,
          3.882647064732764,
          3.310378668349204,
          3.4329462006871445,
          3.0422768825773288,
          5.147837098387184,
          4.693494960722623,
          5.383735053554257,
          4.521239769852409,
          5.375463118512462,
          5.087292642815518,
          5.3335454305775265,
          4.219448606931259,
          4.943311899562444,
          3.539382893078923,
          3.9654598901637117,
          3.5178138603593774,
          4.225911675039788,
          3.7242562438967965,
          4.220765982388073,
          5.9256670273119365,
          3.960957977466094,
          5.947472834924686,
          4.90891837756795,
          4.125273055181733,
          5.572453497250789,
          4.858760218105721,
          3.756099240392518,
          5.378567033930663,
          4.298815526202489,
          4.072533501991324,
          3.9908308095752427,
          5.092106626839419,
          3.8059503717186796,
          5.42483404111614,
          3.8858663831995433,
          4.6323641507560716,
          4.463764475415607,
          5.56606923778611,
          5.665159303186158,
          3.5531533271033,
          4.756045376814753,
          5.694615138051411,
          4.3383516571032885,
          5.765604916451446,
          3.836972671370913,
          4.826493522581387,
          5.047361129300446,
          3.684617200051452,
          3.0413025376731504,
          4.250171887112089,
          5.815445675570202,
          4.029084329491219,
          5.3392328864478,
          3.5242089384822224,
          4.0258585089073575,
          3.43379316251429,
          5.1503124424391284,
          5.097922871090443,
          5.065491953846756,
          3.760188103458899,
          5.077080364870227,
          3.681892622747849,
          4.273947347794019,
          4.115766365003061,
          4.065923734860366,
          3.172964421723769,
          4.8949398805978195,
          5.121949808045098,
          4.840766083508507,
          4.9449382684893735,
          3.5098221426517733,
          3.4483403968165875,
          4.542525130577649,
          5.625998179063617,
          3.551860324641666,
          4.38851735612478,
          4.286797002089709,
          4.491867557758549,
          3.484532311458036,
          4.027321923404432,
          3.7856412123105607,
          5.533580829688437,
          5.400996737329205,
          4.279917474804431,
          4.821046382367117,
          3.43639683079866,
          4.528839882652676,
          3.8908412573607136,
          5.578952860707603,
          5.014795142719169,
          4.900422037867263,
          3.374253900207538,
          4.411763638496657,
          5.959718338760645,
          5.844897522217995,
          4.935256920781331,
          3.455174613095921,
          4.917380546159714,
          4.696986337631783,
          4.405997512983756,
          4.284112408404811,
          4.79780926697409,
          5.549909665547896,
          5.253363121115813,
          4.738081620891699,
          5.774112544608084,
          3.1942199503246465,
          5.974039526195427,
          3.1589836280039685,
          3.598486638415684,
          4.268257984933683,
          3.322526628555503,
          4.871011232993105,
          3.143977692146602,
          3.8538716430208266,
          3.1831100433590134,
          5.110557993315243,
          5.005368502768446,
          4.135741779751807,
          3.564582780089464,
          5.241014487089835,
          4.021137872296402,
          5.385903502216928,
          4.463702817538861,
          4.577008333052938,
          3.0854725484747014,
          4.932696059637095,
          4.051969507296502,
          3.687615081876197,
          4.301650128635101,
          4.147402371812753,
          4.4093671202590805,
          5.9384500625394185,
          4.093134211104691,
          5.323230400008118,
          4.658302789649678,
          5.667393267322448,
          4.064858553448715,
          3.736556040559522,
          5.733057718970905,
          3.1306027912732963,
          5.852260284183007,
          4.669220747012776,
          4.129089650061262,
          5.985156967017334,
          3.175087938442895,
          4.550119079302837,
          3.0932912263666434,
          4.713527217558701,
          3.5414055269853466,
          4.892877601018592,
          5.942771027251744,
          5.6247076536371425,
          4.355508748262611,
          5.125382610155151,
          5.3324062500095675,
          4.484529252547691,
          4.585600470532695,
          3.4523531951165776,
          4.108199776835718,
          3.4266637592183598,
          5.180681260033688,
          4.43103898320679,
          4.346636510120296,
          5.657993913496053,
          4.582856316934684,
          4.227272495750579,
          3.8066760666379373,
          3.2160361055093096,
          4.254408401175947,
          3.07726044721975,
          3.8734618216572843,
          4.510528529545189,
          5.897799195059167,
          3.328148742580754,
          5.019123162649866,
          4.4997971132976,
          5.331294687827349,
          3.430820993622628,
          3.2496079093076267,
          4.197655816057361,
          5.3908867559397,
          3.57502721672967,
          5.303331576441822,
          3.8708939911856044,
          3.650674462835386,
          3.0501467672310194,
          4.195977179767136,
          4.143244473880357,
          4.978034808586094,
          3.2127552014111616,
          3.4578119611268154,
          3.0497276487028024,
          3.3413890693422204,
          4.955367828030271,
          4.207970556524757,
          3.9630789425019475,
          4.673735982731317,
          5.98038138929955,
          5.503459542054089,
          5.098869547198752,
          5.754775767396174,
          3.1191861200492546,
          3.2110003248465757,
          4.422018869964164,
          4.047502238871232,
          5.811756186385347,
          4.468694883435505,
          4.618947330280052,
          5.685781097193662,
          4.339905137471072,
          5.631103167811055,
          3.760745248114885,
          3.8214291124743256,
          3.9850841702627706,
          4.64269281144286,
          3.6603860220809437,
          5.01428751324382,
          3.4283798484090013,
          3.282300823498918,
          5.610575238616133,
          3.7106061106709953,
          4.158012033067786,
          4.714626278175997,
          4.57740590985441,
          3.2280716383263206,
          5.622377806794085,
          5.853406855256076,
          5.437521912524016,
          3.851405504840623,
          4.583540388353878,
          4.018250172052829,
          4.664001932363,
          5.923210406739008,
          3.9351087531569444,
          5.006389817768609,
          3.9779016219269576,
          5.323431798045239
         ]
        },
        {
         "marker": {
          "color": "LightSkyBlue",
          "line": {
           "color": "MediumPurple",
           "width": 12
          },
          "size": 120
         },
         "mode": "markers",
         "showlegend": false,
         "type": "scatter",
         "x": [
          2
         ],
         "y": [
          4.5
         ]
        }
       ],
       "layout": {
        "template": {
         "data": {
          "bar": [
           {
            "error_x": {
             "color": "#2a3f5f"
            },
            "error_y": {
             "color": "#2a3f5f"
            },
            "marker": {
             "line": {
              "color": "#E5ECF6",
              "width": 0.5
             },
             "pattern": {
              "fillmode": "overlay",
              "size": 10,
              "solidity": 0.2
             }
            },
            "type": "bar"
           }
          ],
          "barpolar": [
           {
            "marker": {
             "line": {
              "color": "#E5ECF6",
              "width": 0.5
             },
             "pattern": {
              "fillmode": "overlay",
              "size": 10,
              "solidity": 0.2
             }
            },
            "type": "barpolar"
           }
          ],
          "carpet": [
           {
            "aaxis": {
             "endlinecolor": "#2a3f5f",
             "gridcolor": "white",
             "linecolor": "white",
             "minorgridcolor": "white",
             "startlinecolor": "#2a3f5f"
            },
            "baxis": {
             "endlinecolor": "#2a3f5f",
             "gridcolor": "white",
             "linecolor": "white",
             "minorgridcolor": "white",
             "startlinecolor": "#2a3f5f"
            },
            "type": "carpet"
           }
          ],
          "choropleth": [
           {
            "colorbar": {
             "outlinewidth": 0,
             "ticks": ""
            },
            "type": "choropleth"
           }
          ],
          "contour": [
           {
            "colorbar": {
             "outlinewidth": 0,
             "ticks": ""
            },
            "colorscale": [
             [
              0,
              "#0d0887"
             ],
             [
              0.1111111111111111,
              "#46039f"
             ],
             [
              0.2222222222222222,
              "#7201a8"
             ],
             [
              0.3333333333333333,
              "#9c179e"
             ],
             [
              0.4444444444444444,
              "#bd3786"
             ],
             [
              0.5555555555555556,
              "#d8576b"
             ],
             [
              0.6666666666666666,
              "#ed7953"
             ],
             [
              0.7777777777777778,
              "#fb9f3a"
             ],
             [
              0.8888888888888888,
              "#fdca26"
             ],
             [
              1,
              "#f0f921"
             ]
            ],
            "type": "contour"
           }
          ],
          "contourcarpet": [
           {
            "colorbar": {
             "outlinewidth": 0,
             "ticks": ""
            },
            "type": "contourcarpet"
           }
          ],
          "heatmap": [
           {
            "colorbar": {
             "outlinewidth": 0,
             "ticks": ""
            },
            "colorscale": [
             [
              0,
              "#0d0887"
             ],
             [
              0.1111111111111111,
              "#46039f"
             ],
             [
              0.2222222222222222,
              "#7201a8"
             ],
             [
              0.3333333333333333,
              "#9c179e"
             ],
             [
              0.4444444444444444,
              "#bd3786"
             ],
             [
              0.5555555555555556,
              "#d8576b"
             ],
             [
              0.6666666666666666,
              "#ed7953"
             ],
             [
              0.7777777777777778,
              "#fb9f3a"
             ],
             [
              0.8888888888888888,
              "#fdca26"
             ],
             [
              1,
              "#f0f921"
             ]
            ],
            "type": "heatmap"
           }
          ],
          "heatmapgl": [
           {
            "colorbar": {
             "outlinewidth": 0,
             "ticks": ""
            },
            "colorscale": [
             [
              0,
              "#0d0887"
             ],
             [
              0.1111111111111111,
              "#46039f"
             ],
             [
              0.2222222222222222,
              "#7201a8"
             ],
             [
              0.3333333333333333,
              "#9c179e"
             ],
             [
              0.4444444444444444,
              "#bd3786"
             ],
             [
              0.5555555555555556,
              "#d8576b"
             ],
             [
              0.6666666666666666,
              "#ed7953"
             ],
             [
              0.7777777777777778,
              "#fb9f3a"
             ],
             [
              0.8888888888888888,
              "#fdca26"
             ],
             [
              1,
              "#f0f921"
             ]
            ],
            "type": "heatmapgl"
           }
          ],
          "histogram": [
           {
            "marker": {
             "pattern": {
              "fillmode": "overlay",
              "size": 10,
              "solidity": 0.2
             }
            },
            "type": "histogram"
           }
          ],
          "histogram2d": [
           {
            "colorbar": {
             "outlinewidth": 0,
             "ticks": ""
            },
            "colorscale": [
             [
              0,
              "#0d0887"
             ],
             [
              0.1111111111111111,
              "#46039f"
             ],
             [
              0.2222222222222222,
              "#7201a8"
             ],
             [
              0.3333333333333333,
              "#9c179e"
             ],
             [
              0.4444444444444444,
              "#bd3786"
             ],
             [
              0.5555555555555556,
              "#d8576b"
             ],
             [
              0.6666666666666666,
              "#ed7953"
             ],
             [
              0.7777777777777778,
              "#fb9f3a"
             ],
             [
              0.8888888888888888,
              "#fdca26"
             ],
             [
              1,
              "#f0f921"
             ]
            ],
            "type": "histogram2d"
           }
          ],
          "histogram2dcontour": [
           {
            "colorbar": {
             "outlinewidth": 0,
             "ticks": ""
            },
            "colorscale": [
             [
              0,
              "#0d0887"
             ],
             [
              0.1111111111111111,
              "#46039f"
             ],
             [
              0.2222222222222222,
              "#7201a8"
             ],
             [
              0.3333333333333333,
              "#9c179e"
             ],
             [
              0.4444444444444444,
              "#bd3786"
             ],
             [
              0.5555555555555556,
              "#d8576b"
             ],
             [
              0.6666666666666666,
              "#ed7953"
             ],
             [
              0.7777777777777778,
              "#fb9f3a"
             ],
             [
              0.8888888888888888,
              "#fdca26"
             ],
             [
              1,
              "#f0f921"
             ]
            ],
            "type": "histogram2dcontour"
           }
          ],
          "mesh3d": [
           {
            "colorbar": {
             "outlinewidth": 0,
             "ticks": ""
            },
            "type": "mesh3d"
           }
          ],
          "parcoords": [
           {
            "line": {
             "colorbar": {
              "outlinewidth": 0,
              "ticks": ""
             }
            },
            "type": "parcoords"
           }
          ],
          "pie": [
           {
            "automargin": true,
            "type": "pie"
           }
          ],
          "scatter": [
           {
            "fillpattern": {
             "fillmode": "overlay",
             "size": 10,
             "solidity": 0.2
            },
            "type": "scatter"
           }
          ],
          "scatter3d": [
           {
            "line": {
             "colorbar": {
              "outlinewidth": 0,
              "ticks": ""
             }
            },
            "marker": {
             "colorbar": {
              "outlinewidth": 0,
              "ticks": ""
             }
            },
            "type": "scatter3d"
           }
          ],
          "scattercarpet": [
           {
            "marker": {
             "colorbar": {
              "outlinewidth": 0,
              "ticks": ""
             }
            },
            "type": "scattercarpet"
           }
          ],
          "scattergeo": [
           {
            "marker": {
             "colorbar": {
              "outlinewidth": 0,
              "ticks": ""
             }
            },
            "type": "scattergeo"
           }
          ],
          "scattergl": [
           {
            "marker": {
             "colorbar": {
              "outlinewidth": 0,
              "ticks": ""
             }
            },
            "type": "scattergl"
           }
          ],
          "scattermapbox": [
           {
            "marker": {
             "colorbar": {
              "outlinewidth": 0,
              "ticks": ""
             }
            },
            "type": "scattermapbox"
           }
          ],
          "scatterpolar": [
           {
            "marker": {
             "colorbar": {
              "outlinewidth": 0,
              "ticks": ""
             }
            },
            "type": "scatterpolar"
           }
          ],
          "scatterpolargl": [
           {
            "marker": {
             "colorbar": {
              "outlinewidth": 0,
              "ticks": ""
             }
            },
            "type": "scatterpolargl"
           }
          ],
          "scatterternary": [
           {
            "marker": {
             "colorbar": {
              "outlinewidth": 0,
              "ticks": ""
             }
            },
            "type": "scatterternary"
           }
          ],
          "surface": [
           {
            "colorbar": {
             "outlinewidth": 0,
             "ticks": ""
            },
            "colorscale": [
             [
              0,
              "#0d0887"
             ],
             [
              0.1111111111111111,
              "#46039f"
             ],
             [
              0.2222222222222222,
              "#7201a8"
             ],
             [
              0.3333333333333333,
              "#9c179e"
             ],
             [
              0.4444444444444444,
              "#bd3786"
             ],
             [
              0.5555555555555556,
              "#d8576b"
             ],
             [
              0.6666666666666666,
              "#ed7953"
             ],
             [
              0.7777777777777778,
              "#fb9f3a"
             ],
             [
              0.8888888888888888,
              "#fdca26"
             ],
             [
              1,
              "#f0f921"
             ]
            ],
            "type": "surface"
           }
          ],
          "table": [
           {
            "cells": {
             "fill": {
              "color": "#EBF0F8"
             },
             "line": {
              "color": "white"
             }
            },
            "header": {
             "fill": {
              "color": "#C8D4E3"
             },
             "line": {
              "color": "white"
             }
            },
            "type": "table"
           }
          ]
         },
         "layout": {
          "annotationdefaults": {
           "arrowcolor": "#2a3f5f",
           "arrowhead": 0,
           "arrowwidth": 1
          },
          "autotypenumbers": "strict",
          "coloraxis": {
           "colorbar": {
            "outlinewidth": 0,
            "ticks": ""
           }
          },
          "colorscale": {
           "diverging": [
            [
             0,
             "#8e0152"
            ],
            [
             0.1,
             "#c51b7d"
            ],
            [
             0.2,
             "#de77ae"
            ],
            [
             0.3,
             "#f1b6da"
            ],
            [
             0.4,
             "#fde0ef"
            ],
            [
             0.5,
             "#f7f7f7"
            ],
            [
             0.6,
             "#e6f5d0"
            ],
            [
             0.7,
             "#b8e186"
            ],
            [
             0.8,
             "#7fbc41"
            ],
            [
             0.9,
             "#4d9221"
            ],
            [
             1,
             "#276419"
            ]
           ],
           "sequential": [
            [
             0,
             "#0d0887"
            ],
            [
             0.1111111111111111,
             "#46039f"
            ],
            [
             0.2222222222222222,
             "#7201a8"
            ],
            [
             0.3333333333333333,
             "#9c179e"
            ],
            [
             0.4444444444444444,
             "#bd3786"
            ],
            [
             0.5555555555555556,
             "#d8576b"
            ],
            [
             0.6666666666666666,
             "#ed7953"
            ],
            [
             0.7777777777777778,
             "#fb9f3a"
            ],
            [
             0.8888888888888888,
             "#fdca26"
            ],
            [
             1,
             "#f0f921"
            ]
           ],
           "sequentialminus": [
            [
             0,
             "#0d0887"
            ],
            [
             0.1111111111111111,
             "#46039f"
            ],
            [
             0.2222222222222222,
             "#7201a8"
            ],
            [
             0.3333333333333333,
             "#9c179e"
            ],
            [
             0.4444444444444444,
             "#bd3786"
            ],
            [
             0.5555555555555556,
             "#d8576b"
            ],
            [
             0.6666666666666666,
             "#ed7953"
            ],
            [
             0.7777777777777778,
             "#fb9f3a"
            ],
            [
             0.8888888888888888,
             "#fdca26"
            ],
            [
             1,
             "#f0f921"
            ]
           ]
          },
          "colorway": [
           "#636efa",
           "#EF553B",
           "#00cc96",
           "#ab63fa",
           "#FFA15A",
           "#19d3f3",
           "#FF6692",
           "#B6E880",
           "#FF97FF",
           "#FECB52"
          ],
          "font": {
           "color": "#2a3f5f"
          },
          "geo": {
           "bgcolor": "white",
           "lakecolor": "white",
           "landcolor": "#E5ECF6",
           "showlakes": true,
           "showland": true,
           "subunitcolor": "white"
          },
          "hoverlabel": {
           "align": "left"
          },
          "hovermode": "closest",
          "mapbox": {
           "style": "light"
          },
          "paper_bgcolor": "white",
          "plot_bgcolor": "#E5ECF6",
          "polar": {
           "angularaxis": {
            "gridcolor": "white",
            "linecolor": "white",
            "ticks": ""
           },
           "bgcolor": "#E5ECF6",
           "radialaxis": {
            "gridcolor": "white",
            "linecolor": "white",
            "ticks": ""
           }
          },
          "scene": {
           "xaxis": {
            "backgroundcolor": "#E5ECF6",
            "gridcolor": "white",
            "gridwidth": 2,
            "linecolor": "white",
            "showbackground": true,
            "ticks": "",
            "zerolinecolor": "white"
           },
           "yaxis": {
            "backgroundcolor": "#E5ECF6",
            "gridcolor": "white",
            "gridwidth": 2,
            "linecolor": "white",
            "showbackground": true,
            "ticks": "",
            "zerolinecolor": "white"
           },
           "zaxis": {
            "backgroundcolor": "#E5ECF6",
            "gridcolor": "white",
            "gridwidth": 2,
            "linecolor": "white",
            "showbackground": true,
            "ticks": "",
            "zerolinecolor": "white"
           }
          },
          "shapedefaults": {
           "line": {
            "color": "#2a3f5f"
           }
          },
          "ternary": {
           "aaxis": {
            "gridcolor": "white",
            "linecolor": "white",
            "ticks": ""
           },
           "baxis": {
            "gridcolor": "white",
            "linecolor": "white",
            "ticks": ""
           },
           "bgcolor": "#E5ECF6",
           "caxis": {
            "gridcolor": "white",
            "linecolor": "white",
            "ticks": ""
           }
          },
          "title": {
           "x": 0.05
          },
          "xaxis": {
           "automargin": true,
           "gridcolor": "white",
           "linecolor": "white",
           "ticks": "",
           "title": {
            "standoff": 15
           },
           "zerolinecolor": "white",
           "zerolinewidth": 2
          },
          "yaxis": {
           "automargin": true,
           "gridcolor": "white",
           "linecolor": "white",
           "ticks": "",
           "title": {
            "standoff": 15
           },
           "zerolinecolor": "white",
           "zerolinewidth": 2
          }
         }
        }
       }
      }
     },
     "metadata": {},
     "output_type": "display_data"
    }
   ],
   "source": [
    "import plotly.graph_objects as go\n",
    "\n",
    "# Generate example data\n",
    "import numpy as np\n",
    "np.random.seed(1)\n",
    "\n",
    "x = np.random.uniform(low=3, high=6, size=(500,))\n",
    "y = np.random.uniform(low=3, high=6, size=(500,))\n",
    "\n",
    "# Build figure\n",
    "fig = go.Figure()\n",
    "\n",
    "# Add scatter trace with medium sized markers\n",
    "fig.add_trace(\n",
    "    go.Scatter(\n",
    "        mode='markers',\n",
    "        x=x,\n",
    "        y=y,\n",
    "        marker=dict(\n",
    "            color='LightSkyBlue',\n",
    "            size=20,\n",
    "            line=dict(\n",
    "                color='MediumPurple',\n",
    "                width=2\n",
    "            )\n",
    "        ),\n",
    "        showlegend=False\n",
    "    )\n",
    ")\n",
    "\n",
    "# Add trace with large marker\n",
    "fig.add_trace(\n",
    "    go.Scatter(\n",
    "        mode='markers',\n",
    "        x=[2],\n",
    "        y=[4.5],\n",
    "        marker=dict(\n",
    "            color='LightSkyBlue',\n",
    "            size=120,\n",
    "            line=dict(\n",
    "                color='MediumPurple',\n",
    "                width=12\n",
    "            )\n",
    "        ),\n",
    "        showlegend=False\n",
    "    )\n",
    ")\n",
    "\n",
    "fig.show()\n",
    "\n"
   ]
  },
  {
   "cell_type": "code",
   "execution_count": 103,
   "metadata": {},
   "outputs": [
    {
     "data": {
      "application/vnd.plotly.v1+json": {
       "config": {
        "plotlyServerURL": "https://plot.ly"
       },
       "data": [
        {
         "marker": {
          "color": "rgba(100,0,255,0.38578680203045684)",
          "line": {
           "color": "rgba(0,0,0,1)",
           "width": 2
          },
          "size": 14
         },
         "showlegend": false,
         "type": "scatter",
         "x": [
          75
         ],
         "y": [
          -50
         ]
        },
        {
         "marker": {
          "color": "rgba(100,0,255,0.5989847715736041)",
          "line": {
           "color": "rgba(0,0,0,1)",
           "width": 2
          },
          "size": 14
         },
         "showlegend": false,
         "type": "scatter",
         "x": [
          24
         ],
         "y": [
          -74
         ]
        },
        {
         "marker": {
          "color": "rgba(100,0,255,0.7106598984771574)",
          "line": {
           "color": "rgba(0,0,0,1)",
           "width": 2
          },
          "size": 14
         },
         "showlegend": false,
         "type": "scatter",
         "x": [
          -97
         ],
         "y": [
          -70
         ]
        },
        {
         "marker": {
          "color": "rgba(100,0,255,0.5786802030456852)",
          "line": {
           "color": "rgba(0,0,0,1)",
           "width": 2
          },
          "size": 14
         },
         "showlegend": false,
         "type": "scatter",
         "x": [
          16
         ],
         "y": [
          5
         ]
        },
        {
         "marker": {
          "color": "rgba(100,0,255,0.7360406091370558)",
          "line": {
           "color": "rgba(0,0,0,1)",
           "width": 2
          },
          "size": 14
         },
         "showlegend": false,
         "type": "scatter",
         "x": [
          -89
         ],
         "y": [
          90
         ]
        },
        {
         "marker": {
          "color": "rgba(100,0,255,0.6395939086294417)",
          "line": {
           "color": "rgba(0,0,0,1)",
           "width": 2
          },
          "size": 14
         },
         "showlegend": false,
         "type": "scatter",
         "x": [
          13
         ],
         "y": [
          -4
         ]
        },
        {
         "marker": {
          "color": "rgba(100,0,255,0.04060913705583756)",
          "line": {
           "color": "rgba(0,0,0,1)",
           "width": 2
          },
          "size": 14
         },
         "showlegend": false,
         "type": "scatter",
         "x": [
          17
         ],
         "y": [
          -19
         ]
        },
        {
         "marker": {
          "color": "rgba(100,0,255,0.10152284263959391)",
          "line": {
           "color": "rgba(0,0,0,1)",
           "width": 2
          },
          "size": 14
         },
         "showlegend": false,
         "type": "scatter",
         "x": [
          -25
         ],
         "y": [
          -85
         ]
        },
        {
         "marker": {
          "color": "rgba(100,0,255,0.12690355329949238)",
          "line": {
           "color": "rgba(0,0,0,1)",
           "width": 2
          },
          "size": 14
         },
         "showlegend": false,
         "type": "scatter",
         "x": [
          -53
         ],
         "y": [
          -13
         ]
        },
        {
         "marker": {
          "color": "rgba(100,0,255,0.015228426395939087)",
          "line": {
           "color": "rgba(0,0,0,1)",
           "width": 2
          },
          "size": 14
         },
         "showlegend": false,
         "type": "scatter",
         "x": [
          -25
         ],
         "y": [
          -20
         ]
        },
        {
         "marker": {
          "color": "rgba(100,0,255,0.4263959390862944)",
          "line": {
           "color": "rgba(0,0,0,1)",
           "width": 2
          },
          "size": 14
         },
         "showlegend": false,
         "type": "scatter",
         "x": [
          63
         ],
         "y": [
          64
         ]
        },
        {
         "marker": {
          "color": "rgba(100,0,255,0.8781725888324873)",
          "line": {
           "color": "rgba(0,0,0,1)",
           "width": 2
          },
          "size": 14
         },
         "showlegend": false,
         "type": "scatter",
         "x": [
          -79
         ],
         "y": [
          50
         ]
        },
        {
         "marker": {
          "color": "rgba(100,0,255,0.766497461928934)",
          "line": {
           "color": "rgba(0,0,0,1)",
           "width": 2
          },
          "size": 14
         },
         "showlegend": false,
         "type": "scatter",
         "x": [
          -45
         ],
         "y": [
          -22
         ]
        },
        {
         "marker": {
          "color": "rgba(100,0,255,0.9746192893401016)",
          "line": {
           "color": "rgba(0,0,0,1)",
           "width": 2
          },
          "size": 14
         },
         "showlegend": false,
         "type": "scatter",
         "x": [
          19
         ],
         "y": [
          80
         ]
        },
        {
         "marker": {
          "color": "rgba(100,0,255,0.7918781725888325)",
          "line": {
           "color": "rgba(0,0,0,1)",
           "width": 2
          },
          "size": 14
         },
         "showlegend": false,
         "type": "scatter",
         "x": [
          7
         ],
         "y": [
          74
         ]
        },
        {
         "marker": {
          "color": "rgba(100,0,255,0.9898477157360406)",
          "line": {
           "color": "rgba(0,0,0,1)",
           "width": 2
          },
          "size": 14
         },
         "showlegend": false,
         "type": "scatter",
         "x": [
          -62
         ],
         "y": [
          35
         ]
        },
        {
         "marker": {
          "color": "rgba(100,0,255,0.17766497461928935)",
          "line": {
           "color": "rgba(0,0,0,1)",
           "width": 2
          },
          "size": 14
         },
         "showlegend": false,
         "type": "scatter",
         "x": [
          -98
         ],
         "y": [
          9
         ]
        },
        {
         "marker": {
          "color": "rgba(100,0,255,0.6446700507614214)",
          "line": {
           "color": "rgba(0,0,0,1)",
           "width": 2
          },
          "size": 14
         },
         "showlegend": false,
         "type": "scatter",
         "x": [
          -31
         ],
         "y": [
          -20
         ]
        },
        {
         "marker": {
          "color": "rgba(100,0,255,0.005076142131979695)",
          "line": {
           "color": "rgba(0,0,0,1)",
           "width": 2
          },
          "size": 14
         },
         "showlegend": false,
         "type": "scatter",
         "x": [
          -39
         ],
         "y": [
          -72
         ]
        },
        {
         "marker": {
          "color": "rgba(100,0,255,0.07614213197969544)",
          "line": {
           "color": "rgba(0,0,0,1)",
           "width": 2
          },
          "size": 14
         },
         "showlegend": false,
         "type": "scatter",
         "x": [
          72
         ],
         "y": [
          52
         ]
        },
        {
         "marker": {
          "color": "rgba(100,0,255,0.23857868020304568)",
          "line": {
           "color": "rgba(0,0,0,1)",
           "width": 2
          },
          "size": 14
         },
         "showlegend": false,
         "type": "scatter",
         "x": [
          45
         ],
         "y": [
          -59
         ]
        },
        {
         "marker": {
          "color": "rgba(100,0,255,0.4467005076142132)",
          "line": {
           "color": "rgba(0,0,0,1)",
           "width": 2
          },
          "size": 14
         },
         "showlegend": false,
         "type": "scatter",
         "x": [
          83
         ],
         "y": [
          -64
         ]
        },
        {
         "marker": {
          "color": "rgba(100,0,255,0.9949238578680203)",
          "line": {
           "color": "rgba(0,0,0,1)",
           "width": 2
          },
          "size": 14
         },
         "showlegend": false,
         "type": "scatter",
         "x": [
          -79
         ],
         "y": [
          99
         ]
        },
        {
         "marker": {
          "color": "rgba(100,0,255,0.5532994923857868)",
          "line": {
           "color": "rgba(0,0,0,1)",
           "width": 2
          },
          "size": 14
         },
         "showlegend": false,
         "type": "scatter",
         "x": [
          74
         ],
         "y": [
          -63
         ]
        },
        {
         "marker": {
          "color": "rgba(100,0,255,0.5431472081218274)",
          "line": {
           "color": "rgba(0,0,0,1)",
           "width": 2
          },
          "size": 14
         },
         "showlegend": false,
         "type": "scatter",
         "x": [
          -74
         ],
         "y": [
          -11
         ]
        },
        {
         "marker": {
          "color": "rgba(100,0,255,0.7715736040609137)",
          "line": {
           "color": "rgba(0,0,0,1)",
           "width": 2
          },
          "size": 14
         },
         "showlegend": false,
         "type": "scatter",
         "x": [
          53
         ],
         "y": [
          -44
         ]
        },
        {
         "marker": {
          "color": "rgba(100,0,255,0.8426395939086294)",
          "line": {
           "color": "rgba(0,0,0,1)",
           "width": 2
          },
          "size": 14
         },
         "showlegend": false,
         "type": "scatter",
         "x": [
          -63
         ],
         "y": [
          -66
         ]
        },
        {
         "marker": {
          "color": "rgba(100,0,255,0.45685279187817257)",
          "line": {
           "color": "rgba(0,0,0,1)",
           "width": 2
          },
          "size": 14
         },
         "showlegend": false,
         "type": "scatter",
         "x": [
          21
         ],
         "y": [
          -2
         ]
        },
        {
         "marker": {
          "color": "rgba(100,0,255,0.8730964467005076)",
          "line": {
           "color": "rgba(0,0,0,1)",
           "width": 2
          },
          "size": 14
         },
         "showlegend": false,
         "type": "scatter",
         "x": [
          47
         ],
         "y": [
          71
         ]
        },
        {
         "marker": {
          "color": "rgba(100,0,255,0.9238578680203046)",
          "line": {
           "color": "rgba(0,0,0,1)",
           "width": 2
          },
          "size": 14
         },
         "showlegend": false,
         "type": "scatter",
         "x": [
          -62
         ],
         "y": [
          36
         ]
        },
        {
         "marker": {
          "color": "rgba(100,0,255,0.3096446700507614)",
          "line": {
           "color": "rgba(0,0,0,1)",
           "width": 2
          },
          "size": 14
         },
         "showlegend": false,
         "type": "scatter",
         "x": [
          -84
         ],
         "y": [
          92
         ]
        },
        {
         "marker": {
          "color": "rgba(100,0,255,0.06598984771573604)",
          "line": {
           "color": "rgba(0,0,0,1)",
           "width": 2
          },
          "size": 14
         },
         "showlegend": false,
         "type": "scatter",
         "x": [
          -19
         ],
         "y": [
          -13
         ]
        },
        {
         "marker": {
          "color": "rgba(100,0,255,0.5989847715736041)",
          "line": {
           "color": "rgba(0,0,0,1)",
           "width": 2
          },
          "size": 14
         },
         "showlegend": false,
         "type": "scatter",
         "x": [
          33
         ],
         "y": [
          -53
         ]
        },
        {
         "marker": {
          "color": "rgba(100,0,255,0.7106598984771574)",
          "line": {
           "color": "rgba(0,0,0,1)",
           "width": 2
          },
          "size": 14
         },
         "showlegend": false,
         "type": "scatter",
         "x": [
          16
         ],
         "y": [
          -4
         ]
        },
        {
         "marker": {
          "color": "rgba(100,0,255,0.934010152284264)",
          "line": {
           "color": "rgba(0,0,0,1)",
           "width": 2
          },
          "size": 14
         },
         "showlegend": false,
         "type": "scatter",
         "x": [
          84
         ],
         "y": [
          -30
         ]
        },
        {
         "marker": {
          "color": "rgba(100,0,255,0.5685279187817259)",
          "line": {
           "color": "rgba(0,0,0,1)",
           "width": 2
          },
          "size": 14
         },
         "showlegend": false,
         "type": "scatter",
         "x": [
          86
         ],
         "y": [
          20
         ]
        },
        {
         "marker": {
          "color": "rgba(100,0,255,0.9289340101522843)",
          "line": {
           "color": "rgba(0,0,0,1)",
           "width": 2
          },
          "size": 14
         },
         "showlegend": false,
         "type": "scatter",
         "x": [
          78
         ],
         "y": [
          -38
         ]
        },
        {
         "marker": {
          "color": "rgba(100,0,255,0.7208121827411168)",
          "line": {
           "color": "rgba(0,0,0,1)",
           "width": 2
          },
          "size": 14
         },
         "showlegend": false,
         "type": "scatter",
         "x": [
          69
         ],
         "y": [
          -99
         ]
        },
        {
         "marker": {
          "color": "rgba(100,0,255,0.0)",
          "line": {
           "color": "rgba(0,0,0,1)",
           "width": 2
          },
          "size": 14
         },
         "showlegend": false,
         "type": "scatter",
         "x": [
          -16
         ],
         "y": [
          5
         ]
        },
        {
         "marker": {
          "color": "rgba(100,0,255,0.8071065989847716)",
          "line": {
           "color": "rgba(0,0,0,1)",
           "width": 2
          },
          "size": 14
         },
         "showlegend": false,
         "type": "scatter",
         "x": [
          97
         ],
         "y": [
          13
         ]
        },
        {
         "marker": {
          "color": "rgba(100,0,255,0.22842639593908629)",
          "line": {
           "color": "rgba(0,0,0,1)",
           "width": 2
          },
          "size": 14
         },
         "showlegend": false,
         "type": "scatter",
         "x": [
          -11
         ],
         "y": [
          -16
         ]
        },
        {
         "marker": {
          "color": "rgba(100,0,255,0.6142131979695431)",
          "line": {
           "color": "rgba(0,0,0,1)",
           "width": 2
          },
          "size": 14
         },
         "showlegend": false,
         "type": "scatter",
         "x": [
          61
         ],
         "y": [
          14
         ]
        },
        {
         "marker": {
          "color": "rgba(100,0,255,0.649746192893401)",
          "line": {
           "color": "rgba(0,0,0,1)",
           "width": 2
          },
          "size": 14
         },
         "showlegend": false,
         "type": "scatter",
         "x": [
          95
         ],
         "y": [
          39
         ]
        },
        {
         "marker": {
          "color": "rgba(100,0,255,0.43147208121827413)",
          "line": {
           "color": "rgba(0,0,0,1)",
           "width": 2
          },
          "size": 14
         },
         "showlegend": false,
         "type": "scatter",
         "x": [
          77
         ],
         "y": [
          -82
         ]
        },
        {
         "marker": {
          "color": "rgba(100,0,255,0.04060913705583756)",
          "line": {
           "color": "rgba(0,0,0,1)",
           "width": 2
          },
          "size": 14
         },
         "showlegend": false,
         "type": "scatter",
         "x": [
          -88
         ],
         "y": [
          -4
         ]
        },
        {
         "marker": {
          "color": "rgba(100,0,255,0.2893401015228426)",
          "line": {
           "color": "rgba(0,0,0,1)",
           "width": 2
          },
          "size": 14
         },
         "showlegend": false,
         "type": "scatter",
         "x": [
          95
         ],
         "y": [
          -54
         ]
        },
        {
         "marker": {
          "color": "rgba(100,0,255,0.7258883248730964)",
          "line": {
           "color": "rgba(0,0,0,1)",
           "width": 2
          },
          "size": 14
         },
         "showlegend": false,
         "type": "scatter",
         "x": [
          16
         ],
         "y": [
          52
         ]
        },
        {
         "marker": {
          "color": "rgba(100,0,255,0.26903553299492383)",
          "line": {
           "color": "rgba(0,0,0,1)",
           "width": 2
          },
          "size": 14
         },
         "showlegend": false,
         "type": "scatter",
         "x": [
          -53
         ],
         "y": [
          -62
         ]
        },
        {
         "marker": {
          "color": "rgba(100,0,255,0.4416243654822335)",
          "line": {
           "color": "rgba(0,0,0,1)",
           "width": 2
          },
          "size": 14
         },
         "showlegend": false,
         "type": "scatter",
         "x": [
          65
         ],
         "y": [
          -2
         ]
        },
        {
         "marker": {
          "color": "rgba(100,0,255,0.8883248730964467)",
          "line": {
           "color": "rgba(0,0,0,1)",
           "width": 2
          },
          "size": 14
         },
         "showlegend": false,
         "type": "scatter",
         "x": [
          -81
         ],
         "y": [
          -59
         ]
        },
        {
         "marker": {
          "color": "rgba(100,0,255,0.7360406091370558)",
          "line": {
           "color": "rgba(0,0,0,1)",
           "width": 2
          },
          "size": 14
         },
         "showlegend": false,
         "type": "scatter",
         "x": [
          64
         ],
         "y": [
          -61
         ]
        },
        {
         "marker": {
          "color": "rgba(100,0,255,0.49746192893401014)",
          "line": {
           "color": "rgba(0,0,0,1)",
           "width": 2
          },
          "size": 14
         },
         "showlegend": false,
         "type": "scatter",
         "x": [
          -70
         ],
         "y": [
          -62
         ]
        },
        {
         "marker": {
          "color": "rgba(100,0,255,0.30456852791878175)",
          "line": {
           "color": "rgba(0,0,0,1)",
           "width": 2
          },
          "size": 14
         },
         "showlegend": false,
         "type": "scatter",
         "x": [
          -86
         ],
         "y": [
          99
         ]
        },
        {
         "marker": {
          "color": "rgba(100,0,255,0.3147208121827411)",
          "line": {
           "color": "rgba(0,0,0,1)",
           "width": 2
          },
          "size": 14
         },
         "showlegend": false,
         "type": "scatter",
         "x": [
          -43
         ],
         "y": [
          -51
         ]
        },
        {
         "marker": {
          "color": "rgba(100,0,255,0.8020304568527918)",
          "line": {
           "color": "rgba(0,0,0,1)",
           "width": 2
          },
          "size": 14
         },
         "showlegend": false,
         "type": "scatter",
         "x": [
          -70
         ],
         "y": [
          71
         ]
        },
        {
         "marker": {
          "color": "rgba(100,0,255,0.4416243654822335)",
          "line": {
           "color": "rgba(0,0,0,1)",
           "width": 2
          },
          "size": 14
         },
         "showlegend": false,
         "type": "scatter",
         "x": [
          85
         ],
         "y": [
          55
         ]
        },
        {
         "marker": {
          "color": "rgba(100,0,255,1.0)",
          "line": {
           "color": "rgba(0,0,0,1)",
           "width": 2
          },
          "size": 14
         },
         "showlegend": false,
         "type": "scatter",
         "x": [
          -82
         ],
         "y": [
          -24
         ]
        },
        {
         "marker": {
          "color": "rgba(100,0,255,0.7309644670050761)",
          "line": {
           "color": "rgba(0,0,0,1)",
           "width": 2
          },
          "size": 14
         },
         "showlegend": false,
         "type": "scatter",
         "x": [
          -28
         ],
         "y": [
          30
         ]
        },
        {
         "marker": {
          "color": "rgba(100,0,255,0.02030456852791878)",
          "line": {
           "color": "rgba(0,0,0,1)",
           "width": 2
          },
          "size": 14
         },
         "showlegend": false,
         "type": "scatter",
         "x": [
          -90
         ],
         "y": [
          -72
         ]
        },
        {
         "marker": {
          "color": "rgba(100,0,255,0.751269035532995)",
          "line": {
           "color": "rgba(0,0,0,1)",
           "width": 2
          },
          "size": 14
         },
         "showlegend": false,
         "type": "scatter",
         "x": [
          -65
         ],
         "y": [
          70
         ]
        },
        {
         "marker": {
          "color": "rgba(100,0,255,0.4010152284263959)",
          "line": {
           "color": "rgba(0,0,0,1)",
           "width": 2
          },
          "size": 14
         },
         "showlegend": false,
         "type": "scatter",
         "x": [
          7
         ],
         "y": [
          30
         ]
        },
        {
         "marker": {
          "color": "rgba(100,0,255,0.7106598984771574)",
          "line": {
           "color": "rgba(0,0,0,1)",
           "width": 2
          },
          "size": 14
         },
         "showlegend": false,
         "type": "scatter",
         "x": [
          -98
         ],
         "y": [
          -81
         ]
        },
        {
         "marker": {
          "color": "rgba(100,0,255,0.5431472081218274)",
          "line": {
           "color": "rgba(0,0,0,1)",
           "width": 2
          },
          "size": 14
         },
         "showlegend": false,
         "type": "scatter",
         "x": [
          93
         ],
         "y": [
          15
         ]
        },
        {
         "marker": {
          "color": "rgba(100,0,255,0.1319796954314721)",
          "line": {
           "color": "rgba(0,0,0,1)",
           "width": 2
          },
          "size": 14
         },
         "showlegend": false,
         "type": "scatter",
         "x": [
          9
         ],
         "y": [
          -81
         ]
        },
        {
         "marker": {
          "color": "rgba(100,0,255,0.3248730964467005)",
          "line": {
           "color": "rgba(0,0,0,1)",
           "width": 2
          },
          "size": 14
         },
         "showlegend": false,
         "type": "scatter",
         "x": [
          -32
         ],
         "y": [
          23
         ]
        },
        {
         "marker": {
          "color": "rgba(100,0,255,0.4517766497461929)",
          "line": {
           "color": "rgba(0,0,0,1)",
           "width": 2
          },
          "size": 14
         },
         "showlegend": false,
         "type": "scatter",
         "x": [
          -18
         ],
         "y": [
          3
         ]
        },
        {
         "marker": {
          "color": "rgba(100,0,255,0.7817258883248731)",
          "line": {
           "color": "rgba(0,0,0,1)",
           "width": 2
          },
          "size": 14
         },
         "showlegend": false,
         "type": "scatter",
         "x": [
          77
         ],
         "y": [
          -77
         ]
        },
        {
         "marker": {
          "color": "rgba(100,0,255,0.17258883248730963)",
          "line": {
           "color": "rgba(0,0,0,1)",
           "width": 2
          },
          "size": 14
         },
         "showlegend": false,
         "type": "scatter",
         "x": [
          75
         ],
         "y": [
          43
         ]
        },
        {
         "marker": {
          "color": "rgba(100,0,255,0.36548223350253806)",
          "line": {
           "color": "rgba(0,0,0,1)",
           "width": 2
          },
          "size": 14
         },
         "showlegend": false,
         "type": "scatter",
         "x": [
          -84
         ],
         "y": [
          -59
         ]
        },
        {
         "marker": {
          "color": "rgba(100,0,255,0.6903553299492385)",
          "line": {
           "color": "rgba(0,0,0,1)",
           "width": 2
          },
          "size": 14
         },
         "showlegend": false,
         "type": "scatter",
         "x": [
          50
         ],
         "y": [
          84
         ]
        },
        {
         "marker": {
          "color": "rgba(100,0,255,0.8629441624365483)",
          "line": {
           "color": "rgba(0,0,0,1)",
           "width": 2
          },
          "size": 14
         },
         "showlegend": false,
         "type": "scatter",
         "x": [
          61
         ],
         "y": [
          21
         ]
        },
        {
         "marker": {
          "color": "rgba(100,0,255,0.23857868020304568)",
          "line": {
           "color": "rgba(0,0,0,1)",
           "width": 2
          },
          "size": 14
         },
         "showlegend": false,
         "type": "scatter",
         "x": [
          -14
         ],
         "y": [
          72
         ]
        },
        {
         "marker": {
          "color": "rgba(100,0,255,0.6243654822335025)",
          "line": {
           "color": "rgba(0,0,0,1)",
           "width": 2
          },
          "size": 14
         },
         "showlegend": false,
         "type": "scatter",
         "x": [
          -61
         ],
         "y": [
          87
         ]
        }
       ],
       "layout": {
        "template": {
         "data": {
          "bar": [
           {
            "error_x": {
             "color": "#2a3f5f"
            },
            "error_y": {
             "color": "#2a3f5f"
            },
            "marker": {
             "line": {
              "color": "#E5ECF6",
              "width": 0.5
             },
             "pattern": {
              "fillmode": "overlay",
              "size": 10,
              "solidity": 0.2
             }
            },
            "type": "bar"
           }
          ],
          "barpolar": [
           {
            "marker": {
             "line": {
              "color": "#E5ECF6",
              "width": 0.5
             },
             "pattern": {
              "fillmode": "overlay",
              "size": 10,
              "solidity": 0.2
             }
            },
            "type": "barpolar"
           }
          ],
          "carpet": [
           {
            "aaxis": {
             "endlinecolor": "#2a3f5f",
             "gridcolor": "white",
             "linecolor": "white",
             "minorgridcolor": "white",
             "startlinecolor": "#2a3f5f"
            },
            "baxis": {
             "endlinecolor": "#2a3f5f",
             "gridcolor": "white",
             "linecolor": "white",
             "minorgridcolor": "white",
             "startlinecolor": "#2a3f5f"
            },
            "type": "carpet"
           }
          ],
          "choropleth": [
           {
            "colorbar": {
             "outlinewidth": 0,
             "ticks": ""
            },
            "type": "choropleth"
           }
          ],
          "contour": [
           {
            "colorbar": {
             "outlinewidth": 0,
             "ticks": ""
            },
            "colorscale": [
             [
              0,
              "#0d0887"
             ],
             [
              0.1111111111111111,
              "#46039f"
             ],
             [
              0.2222222222222222,
              "#7201a8"
             ],
             [
              0.3333333333333333,
              "#9c179e"
             ],
             [
              0.4444444444444444,
              "#bd3786"
             ],
             [
              0.5555555555555556,
              "#d8576b"
             ],
             [
              0.6666666666666666,
              "#ed7953"
             ],
             [
              0.7777777777777778,
              "#fb9f3a"
             ],
             [
              0.8888888888888888,
              "#fdca26"
             ],
             [
              1,
              "#f0f921"
             ]
            ],
            "type": "contour"
           }
          ],
          "contourcarpet": [
           {
            "colorbar": {
             "outlinewidth": 0,
             "ticks": ""
            },
            "type": "contourcarpet"
           }
          ],
          "heatmap": [
           {
            "colorbar": {
             "outlinewidth": 0,
             "ticks": ""
            },
            "colorscale": [
             [
              0,
              "#0d0887"
             ],
             [
              0.1111111111111111,
              "#46039f"
             ],
             [
              0.2222222222222222,
              "#7201a8"
             ],
             [
              0.3333333333333333,
              "#9c179e"
             ],
             [
              0.4444444444444444,
              "#bd3786"
             ],
             [
              0.5555555555555556,
              "#d8576b"
             ],
             [
              0.6666666666666666,
              "#ed7953"
             ],
             [
              0.7777777777777778,
              "#fb9f3a"
             ],
             [
              0.8888888888888888,
              "#fdca26"
             ],
             [
              1,
              "#f0f921"
             ]
            ],
            "type": "heatmap"
           }
          ],
          "heatmapgl": [
           {
            "colorbar": {
             "outlinewidth": 0,
             "ticks": ""
            },
            "colorscale": [
             [
              0,
              "#0d0887"
             ],
             [
              0.1111111111111111,
              "#46039f"
             ],
             [
              0.2222222222222222,
              "#7201a8"
             ],
             [
              0.3333333333333333,
              "#9c179e"
             ],
             [
              0.4444444444444444,
              "#bd3786"
             ],
             [
              0.5555555555555556,
              "#d8576b"
             ],
             [
              0.6666666666666666,
              "#ed7953"
             ],
             [
              0.7777777777777778,
              "#fb9f3a"
             ],
             [
              0.8888888888888888,
              "#fdca26"
             ],
             [
              1,
              "#f0f921"
             ]
            ],
            "type": "heatmapgl"
           }
          ],
          "histogram": [
           {
            "marker": {
             "pattern": {
              "fillmode": "overlay",
              "size": 10,
              "solidity": 0.2
             }
            },
            "type": "histogram"
           }
          ],
          "histogram2d": [
           {
            "colorbar": {
             "outlinewidth": 0,
             "ticks": ""
            },
            "colorscale": [
             [
              0,
              "#0d0887"
             ],
             [
              0.1111111111111111,
              "#46039f"
             ],
             [
              0.2222222222222222,
              "#7201a8"
             ],
             [
              0.3333333333333333,
              "#9c179e"
             ],
             [
              0.4444444444444444,
              "#bd3786"
             ],
             [
              0.5555555555555556,
              "#d8576b"
             ],
             [
              0.6666666666666666,
              "#ed7953"
             ],
             [
              0.7777777777777778,
              "#fb9f3a"
             ],
             [
              0.8888888888888888,
              "#fdca26"
             ],
             [
              1,
              "#f0f921"
             ]
            ],
            "type": "histogram2d"
           }
          ],
          "histogram2dcontour": [
           {
            "colorbar": {
             "outlinewidth": 0,
             "ticks": ""
            },
            "colorscale": [
             [
              0,
              "#0d0887"
             ],
             [
              0.1111111111111111,
              "#46039f"
             ],
             [
              0.2222222222222222,
              "#7201a8"
             ],
             [
              0.3333333333333333,
              "#9c179e"
             ],
             [
              0.4444444444444444,
              "#bd3786"
             ],
             [
              0.5555555555555556,
              "#d8576b"
             ],
             [
              0.6666666666666666,
              "#ed7953"
             ],
             [
              0.7777777777777778,
              "#fb9f3a"
             ],
             [
              0.8888888888888888,
              "#fdca26"
             ],
             [
              1,
              "#f0f921"
             ]
            ],
            "type": "histogram2dcontour"
           }
          ],
          "mesh3d": [
           {
            "colorbar": {
             "outlinewidth": 0,
             "ticks": ""
            },
            "type": "mesh3d"
           }
          ],
          "parcoords": [
           {
            "line": {
             "colorbar": {
              "outlinewidth": 0,
              "ticks": ""
             }
            },
            "type": "parcoords"
           }
          ],
          "pie": [
           {
            "automargin": true,
            "type": "pie"
           }
          ],
          "scatter": [
           {
            "fillpattern": {
             "fillmode": "overlay",
             "size": 10,
             "solidity": 0.2
            },
            "type": "scatter"
           }
          ],
          "scatter3d": [
           {
            "line": {
             "colorbar": {
              "outlinewidth": 0,
              "ticks": ""
             }
            },
            "marker": {
             "colorbar": {
              "outlinewidth": 0,
              "ticks": ""
             }
            },
            "type": "scatter3d"
           }
          ],
          "scattercarpet": [
           {
            "marker": {
             "colorbar": {
              "outlinewidth": 0,
              "ticks": ""
             }
            },
            "type": "scattercarpet"
           }
          ],
          "scattergeo": [
           {
            "marker": {
             "colorbar": {
              "outlinewidth": 0,
              "ticks": ""
             }
            },
            "type": "scattergeo"
           }
          ],
          "scattergl": [
           {
            "marker": {
             "colorbar": {
              "outlinewidth": 0,
              "ticks": ""
             }
            },
            "type": "scattergl"
           }
          ],
          "scattermapbox": [
           {
            "marker": {
             "colorbar": {
              "outlinewidth": 0,
              "ticks": ""
             }
            },
            "type": "scattermapbox"
           }
          ],
          "scatterpolar": [
           {
            "marker": {
             "colorbar": {
              "outlinewidth": 0,
              "ticks": ""
             }
            },
            "type": "scatterpolar"
           }
          ],
          "scatterpolargl": [
           {
            "marker": {
             "colorbar": {
              "outlinewidth": 0,
              "ticks": ""
             }
            },
            "type": "scatterpolargl"
           }
          ],
          "scatterternary": [
           {
            "marker": {
             "colorbar": {
              "outlinewidth": 0,
              "ticks": ""
             }
            },
            "type": "scatterternary"
           }
          ],
          "surface": [
           {
            "colorbar": {
             "outlinewidth": 0,
             "ticks": ""
            },
            "colorscale": [
             [
              0,
              "#0d0887"
             ],
             [
              0.1111111111111111,
              "#46039f"
             ],
             [
              0.2222222222222222,
              "#7201a8"
             ],
             [
              0.3333333333333333,
              "#9c179e"
             ],
             [
              0.4444444444444444,
              "#bd3786"
             ],
             [
              0.5555555555555556,
              "#d8576b"
             ],
             [
              0.6666666666666666,
              "#ed7953"
             ],
             [
              0.7777777777777778,
              "#fb9f3a"
             ],
             [
              0.8888888888888888,
              "#fdca26"
             ],
             [
              1,
              "#f0f921"
             ]
            ],
            "type": "surface"
           }
          ],
          "table": [
           {
            "cells": {
             "fill": {
              "color": "#EBF0F8"
             },
             "line": {
              "color": "white"
             }
            },
            "header": {
             "fill": {
              "color": "#C8D4E3"
             },
             "line": {
              "color": "white"
             }
            },
            "type": "table"
           }
          ]
         },
         "layout": {
          "annotationdefaults": {
           "arrowcolor": "#2a3f5f",
           "arrowhead": 0,
           "arrowwidth": 1
          },
          "autotypenumbers": "strict",
          "coloraxis": {
           "colorbar": {
            "outlinewidth": 0,
            "ticks": ""
           }
          },
          "colorscale": {
           "diverging": [
            [
             0,
             "#8e0152"
            ],
            [
             0.1,
             "#c51b7d"
            ],
            [
             0.2,
             "#de77ae"
            ],
            [
             0.3,
             "#f1b6da"
            ],
            [
             0.4,
             "#fde0ef"
            ],
            [
             0.5,
             "#f7f7f7"
            ],
            [
             0.6,
             "#e6f5d0"
            ],
            [
             0.7,
             "#b8e186"
            ],
            [
             0.8,
             "#7fbc41"
            ],
            [
             0.9,
             "#4d9221"
            ],
            [
             1,
             "#276419"
            ]
           ],
           "sequential": [
            [
             0,
             "#0d0887"
            ],
            [
             0.1111111111111111,
             "#46039f"
            ],
            [
             0.2222222222222222,
             "#7201a8"
            ],
            [
             0.3333333333333333,
             "#9c179e"
            ],
            [
             0.4444444444444444,
             "#bd3786"
            ],
            [
             0.5555555555555556,
             "#d8576b"
            ],
            [
             0.6666666666666666,
             "#ed7953"
            ],
            [
             0.7777777777777778,
             "#fb9f3a"
            ],
            [
             0.8888888888888888,
             "#fdca26"
            ],
            [
             1,
             "#f0f921"
            ]
           ],
           "sequentialminus": [
            [
             0,
             "#0d0887"
            ],
            [
             0.1111111111111111,
             "#46039f"
            ],
            [
             0.2222222222222222,
             "#7201a8"
            ],
            [
             0.3333333333333333,
             "#9c179e"
            ],
            [
             0.4444444444444444,
             "#bd3786"
            ],
            [
             0.5555555555555556,
             "#d8576b"
            ],
            [
             0.6666666666666666,
             "#ed7953"
            ],
            [
             0.7777777777777778,
             "#fb9f3a"
            ],
            [
             0.8888888888888888,
             "#fdca26"
            ],
            [
             1,
             "#f0f921"
            ]
           ]
          },
          "colorway": [
           "#636efa",
           "#EF553B",
           "#00cc96",
           "#ab63fa",
           "#FFA15A",
           "#19d3f3",
           "#FF6692",
           "#B6E880",
           "#FF97FF",
           "#FECB52"
          ],
          "font": {
           "color": "#2a3f5f"
          },
          "geo": {
           "bgcolor": "white",
           "lakecolor": "white",
           "landcolor": "#E5ECF6",
           "showlakes": true,
           "showland": true,
           "subunitcolor": "white"
          },
          "hoverlabel": {
           "align": "left"
          },
          "hovermode": "closest",
          "mapbox": {
           "style": "light"
          },
          "paper_bgcolor": "white",
          "plot_bgcolor": "#E5ECF6",
          "polar": {
           "angularaxis": {
            "gridcolor": "white",
            "linecolor": "white",
            "ticks": ""
           },
           "bgcolor": "#E5ECF6",
           "radialaxis": {
            "gridcolor": "white",
            "linecolor": "white",
            "ticks": ""
           }
          },
          "scene": {
           "xaxis": {
            "backgroundcolor": "#E5ECF6",
            "gridcolor": "white",
            "gridwidth": 2,
            "linecolor": "white",
            "showbackground": true,
            "ticks": "",
            "zerolinecolor": "white"
           },
           "yaxis": {
            "backgroundcolor": "#E5ECF6",
            "gridcolor": "white",
            "gridwidth": 2,
            "linecolor": "white",
            "showbackground": true,
            "ticks": "",
            "zerolinecolor": "white"
           },
           "zaxis": {
            "backgroundcolor": "#E5ECF6",
            "gridcolor": "white",
            "gridwidth": 2,
            "linecolor": "white",
            "showbackground": true,
            "ticks": "",
            "zerolinecolor": "white"
           }
          },
          "shapedefaults": {
           "line": {
            "color": "#2a3f5f"
           }
          },
          "ternary": {
           "aaxis": {
            "gridcolor": "white",
            "linecolor": "white",
            "ticks": ""
           },
           "baxis": {
            "gridcolor": "white",
            "linecolor": "white",
            "ticks": ""
           },
           "bgcolor": "#E5ECF6",
           "caxis": {
            "gridcolor": "white",
            "linecolor": "white",
            "ticks": ""
           }
          },
          "title": {
           "x": 0.05
          },
          "xaxis": {
           "automargin": true,
           "gridcolor": "white",
           "linecolor": "white",
           "ticks": "",
           "title": {
            "standoff": 15
           },
           "zerolinecolor": "white",
           "zerolinewidth": 2
          },
          "yaxis": {
           "automargin": true,
           "gridcolor": "white",
           "linecolor": "white",
           "ticks": "",
           "title": {
            "standoff": 15
           },
           "zerolinecolor": "white",
           "zerolinewidth": 2
          }
         }
        }
       }
      }
     },
     "metadata": {},
     "output_type": "display_data"
    }
   ],
   "source": [
    "# imports\n",
    "import plotly.graph_objects as go\n",
    "\n",
    "# sample data in the form of an hourlt\n",
    "np.random.seed(1234)\n",
    "tseries = pd.date_range(\"01.01.2020\", \"01.04.2020\", freq=\"H\")\n",
    "data = np.random.randint(-100, 100, size=(len(tseries), 3))\n",
    "df = pd.DataFrame(data=data)\n",
    "df.columns=list('ABC')\n",
    "df['C_scaled'] = df['C'].max()/df['C']\n",
    "df['C_scaled'] = (df['C']-df['C'].min())/(df['C'].max()-df['C'].min())\n",
    "\n",
    "df = df.sort_values(by=['C_scaled'], ascending=False)\n",
    "\n",
    "fig=go.Figure()\n",
    "\n",
    "for ix in df.index:\n",
    "    d = df.iloc[ix]\n",
    "    opac = str(d['C_scaled'])\n",
    "    fig.add_trace(go.Scatter(x=[d['A']], y=[d['B']], showlegend=False,\n",
    "                             marker=dict(size = 14, color='rgba(100,0,255,'+opac+')',\n",
    "                                         line=dict(color='rgba(0,0,0,1)', width = 2)))\n",
    "                            )\n",
    "    \n",
    "fig.show()"
   ]
  },
  {
   "cell_type": "code",
   "execution_count": 104,
   "metadata": {},
   "outputs": [
    {
     "data": {
      "application/vnd.plotly.v1+json": {
       "config": {
        "plotlyServerURL": "https://plot.ly"
       },
       "data": [
        {
         "marker": {
          "color": "rgba(255,255,255,1)",
          "line": {
           "color": "rgba(0,0,0,1)",
           "width": 2
          },
          "size": 15,
          "symbol": "circle"
         },
         "type": "scatter",
         "x": [
          "2007-01-01",
          "2013-01-01",
          "2015-01-01",
          "2015-01-01",
          "2017-01-01",
          "2017-01-01",
          "2017-01-01",
          "2019-01-01",
          "2019-01-01",
          "2023-05-01",
          "2023-09-01",
          "2023-10-11"
         ],
         "y": [
          0,
          0,
          0,
          0,
          0,
          0,
          0,
          0,
          0,
          0,
          0,
          0
         ]
        }
       ],
       "layout": {
        "template": {
         "data": {
          "bar": [
           {
            "error_x": {
             "color": "#2a3f5f"
            },
            "error_y": {
             "color": "#2a3f5f"
            },
            "marker": {
             "line": {
              "color": "#E5ECF6",
              "width": 0.5
             },
             "pattern": {
              "fillmode": "overlay",
              "size": 10,
              "solidity": 0.2
             }
            },
            "type": "bar"
           }
          ],
          "barpolar": [
           {
            "marker": {
             "line": {
              "color": "#E5ECF6",
              "width": 0.5
             },
             "pattern": {
              "fillmode": "overlay",
              "size": 10,
              "solidity": 0.2
             }
            },
            "type": "barpolar"
           }
          ],
          "carpet": [
           {
            "aaxis": {
             "endlinecolor": "#2a3f5f",
             "gridcolor": "white",
             "linecolor": "white",
             "minorgridcolor": "white",
             "startlinecolor": "#2a3f5f"
            },
            "baxis": {
             "endlinecolor": "#2a3f5f",
             "gridcolor": "white",
             "linecolor": "white",
             "minorgridcolor": "white",
             "startlinecolor": "#2a3f5f"
            },
            "type": "carpet"
           }
          ],
          "choropleth": [
           {
            "colorbar": {
             "outlinewidth": 0,
             "ticks": ""
            },
            "type": "choropleth"
           }
          ],
          "contour": [
           {
            "colorbar": {
             "outlinewidth": 0,
             "ticks": ""
            },
            "colorscale": [
             [
              0,
              "#0d0887"
             ],
             [
              0.1111111111111111,
              "#46039f"
             ],
             [
              0.2222222222222222,
              "#7201a8"
             ],
             [
              0.3333333333333333,
              "#9c179e"
             ],
             [
              0.4444444444444444,
              "#bd3786"
             ],
             [
              0.5555555555555556,
              "#d8576b"
             ],
             [
              0.6666666666666666,
              "#ed7953"
             ],
             [
              0.7777777777777778,
              "#fb9f3a"
             ],
             [
              0.8888888888888888,
              "#fdca26"
             ],
             [
              1,
              "#f0f921"
             ]
            ],
            "type": "contour"
           }
          ],
          "contourcarpet": [
           {
            "colorbar": {
             "outlinewidth": 0,
             "ticks": ""
            },
            "type": "contourcarpet"
           }
          ],
          "heatmap": [
           {
            "colorbar": {
             "outlinewidth": 0,
             "ticks": ""
            },
            "colorscale": [
             [
              0,
              "#0d0887"
             ],
             [
              0.1111111111111111,
              "#46039f"
             ],
             [
              0.2222222222222222,
              "#7201a8"
             ],
             [
              0.3333333333333333,
              "#9c179e"
             ],
             [
              0.4444444444444444,
              "#bd3786"
             ],
             [
              0.5555555555555556,
              "#d8576b"
             ],
             [
              0.6666666666666666,
              "#ed7953"
             ],
             [
              0.7777777777777778,
              "#fb9f3a"
             ],
             [
              0.8888888888888888,
              "#fdca26"
             ],
             [
              1,
              "#f0f921"
             ]
            ],
            "type": "heatmap"
           }
          ],
          "heatmapgl": [
           {
            "colorbar": {
             "outlinewidth": 0,
             "ticks": ""
            },
            "colorscale": [
             [
              0,
              "#0d0887"
             ],
             [
              0.1111111111111111,
              "#46039f"
             ],
             [
              0.2222222222222222,
              "#7201a8"
             ],
             [
              0.3333333333333333,
              "#9c179e"
             ],
             [
              0.4444444444444444,
              "#bd3786"
             ],
             [
              0.5555555555555556,
              "#d8576b"
             ],
             [
              0.6666666666666666,
              "#ed7953"
             ],
             [
              0.7777777777777778,
              "#fb9f3a"
             ],
             [
              0.8888888888888888,
              "#fdca26"
             ],
             [
              1,
              "#f0f921"
             ]
            ],
            "type": "heatmapgl"
           }
          ],
          "histogram": [
           {
            "marker": {
             "pattern": {
              "fillmode": "overlay",
              "size": 10,
              "solidity": 0.2
             }
            },
            "type": "histogram"
           }
          ],
          "histogram2d": [
           {
            "colorbar": {
             "outlinewidth": 0,
             "ticks": ""
            },
            "colorscale": [
             [
              0,
              "#0d0887"
             ],
             [
              0.1111111111111111,
              "#46039f"
             ],
             [
              0.2222222222222222,
              "#7201a8"
             ],
             [
              0.3333333333333333,
              "#9c179e"
             ],
             [
              0.4444444444444444,
              "#bd3786"
             ],
             [
              0.5555555555555556,
              "#d8576b"
             ],
             [
              0.6666666666666666,
              "#ed7953"
             ],
             [
              0.7777777777777778,
              "#fb9f3a"
             ],
             [
              0.8888888888888888,
              "#fdca26"
             ],
             [
              1,
              "#f0f921"
             ]
            ],
            "type": "histogram2d"
           }
          ],
          "histogram2dcontour": [
           {
            "colorbar": {
             "outlinewidth": 0,
             "ticks": ""
            },
            "colorscale": [
             [
              0,
              "#0d0887"
             ],
             [
              0.1111111111111111,
              "#46039f"
             ],
             [
              0.2222222222222222,
              "#7201a8"
             ],
             [
              0.3333333333333333,
              "#9c179e"
             ],
             [
              0.4444444444444444,
              "#bd3786"
             ],
             [
              0.5555555555555556,
              "#d8576b"
             ],
             [
              0.6666666666666666,
              "#ed7953"
             ],
             [
              0.7777777777777778,
              "#fb9f3a"
             ],
             [
              0.8888888888888888,
              "#fdca26"
             ],
             [
              1,
              "#f0f921"
             ]
            ],
            "type": "histogram2dcontour"
           }
          ],
          "mesh3d": [
           {
            "colorbar": {
             "outlinewidth": 0,
             "ticks": ""
            },
            "type": "mesh3d"
           }
          ],
          "parcoords": [
           {
            "line": {
             "colorbar": {
              "outlinewidth": 0,
              "ticks": ""
             }
            },
            "type": "parcoords"
           }
          ],
          "pie": [
           {
            "automargin": true,
            "type": "pie"
           }
          ],
          "scatter": [
           {
            "fillpattern": {
             "fillmode": "overlay",
             "size": 10,
             "solidity": 0.2
            },
            "type": "scatter"
           }
          ],
          "scatter3d": [
           {
            "line": {
             "colorbar": {
              "outlinewidth": 0,
              "ticks": ""
             }
            },
            "marker": {
             "colorbar": {
              "outlinewidth": 0,
              "ticks": ""
             }
            },
            "type": "scatter3d"
           }
          ],
          "scattercarpet": [
           {
            "marker": {
             "colorbar": {
              "outlinewidth": 0,
              "ticks": ""
             }
            },
            "type": "scattercarpet"
           }
          ],
          "scattergeo": [
           {
            "marker": {
             "colorbar": {
              "outlinewidth": 0,
              "ticks": ""
             }
            },
            "type": "scattergeo"
           }
          ],
          "scattergl": [
           {
            "marker": {
             "colorbar": {
              "outlinewidth": 0,
              "ticks": ""
             }
            },
            "type": "scattergl"
           }
          ],
          "scattermapbox": [
           {
            "marker": {
             "colorbar": {
              "outlinewidth": 0,
              "ticks": ""
             }
            },
            "type": "scattermapbox"
           }
          ],
          "scatterpolar": [
           {
            "marker": {
             "colorbar": {
              "outlinewidth": 0,
              "ticks": ""
             }
            },
            "type": "scatterpolar"
           }
          ],
          "scatterpolargl": [
           {
            "marker": {
             "colorbar": {
              "outlinewidth": 0,
              "ticks": ""
             }
            },
            "type": "scatterpolargl"
           }
          ],
          "scatterternary": [
           {
            "marker": {
             "colorbar": {
              "outlinewidth": 0,
              "ticks": ""
             }
            },
            "type": "scatterternary"
           }
          ],
          "surface": [
           {
            "colorbar": {
             "outlinewidth": 0,
             "ticks": ""
            },
            "colorscale": [
             [
              0,
              "#0d0887"
             ],
             [
              0.1111111111111111,
              "#46039f"
             ],
             [
              0.2222222222222222,
              "#7201a8"
             ],
             [
              0.3333333333333333,
              "#9c179e"
             ],
             [
              0.4444444444444444,
              "#bd3786"
             ],
             [
              0.5555555555555556,
              "#d8576b"
             ],
             [
              0.6666666666666666,
              "#ed7953"
             ],
             [
              0.7777777777777778,
              "#fb9f3a"
             ],
             [
              0.8888888888888888,
              "#fdca26"
             ],
             [
              1,
              "#f0f921"
             ]
            ],
            "type": "surface"
           }
          ],
          "table": [
           {
            "cells": {
             "fill": {
              "color": "#EBF0F8"
             },
             "line": {
              "color": "white"
             }
            },
            "header": {
             "fill": {
              "color": "#C8D4E3"
             },
             "line": {
              "color": "white"
             }
            },
            "type": "table"
           }
          ]
         },
         "layout": {
          "annotationdefaults": {
           "arrowcolor": "#2a3f5f",
           "arrowhead": 0,
           "arrowwidth": 1
          },
          "autotypenumbers": "strict",
          "coloraxis": {
           "colorbar": {
            "outlinewidth": 0,
            "ticks": ""
           }
          },
          "colorscale": {
           "diverging": [
            [
             0,
             "#8e0152"
            ],
            [
             0.1,
             "#c51b7d"
            ],
            [
             0.2,
             "#de77ae"
            ],
            [
             0.3,
             "#f1b6da"
            ],
            [
             0.4,
             "#fde0ef"
            ],
            [
             0.5,
             "#f7f7f7"
            ],
            [
             0.6,
             "#e6f5d0"
            ],
            [
             0.7,
             "#b8e186"
            ],
            [
             0.8,
             "#7fbc41"
            ],
            [
             0.9,
             "#4d9221"
            ],
            [
             1,
             "#276419"
            ]
           ],
           "sequential": [
            [
             0,
             "#0d0887"
            ],
            [
             0.1111111111111111,
             "#46039f"
            ],
            [
             0.2222222222222222,
             "#7201a8"
            ],
            [
             0.3333333333333333,
             "#9c179e"
            ],
            [
             0.4444444444444444,
             "#bd3786"
            ],
            [
             0.5555555555555556,
             "#d8576b"
            ],
            [
             0.6666666666666666,
             "#ed7953"
            ],
            [
             0.7777777777777778,
             "#fb9f3a"
            ],
            [
             0.8888888888888888,
             "#fdca26"
            ],
            [
             1,
             "#f0f921"
            ]
           ],
           "sequentialminus": [
            [
             0,
             "#0d0887"
            ],
            [
             0.1111111111111111,
             "#46039f"
            ],
            [
             0.2222222222222222,
             "#7201a8"
            ],
            [
             0.3333333333333333,
             "#9c179e"
            ],
            [
             0.4444444444444444,
             "#bd3786"
            ],
            [
             0.5555555555555556,
             "#d8576b"
            ],
            [
             0.6666666666666666,
             "#ed7953"
            ],
            [
             0.7777777777777778,
             "#fb9f3a"
            ],
            [
             0.8888888888888888,
             "#fdca26"
            ],
            [
             1,
             "#f0f921"
            ]
           ]
          },
          "colorway": [
           "#636efa",
           "#EF553B",
           "#00cc96",
           "#ab63fa",
           "#FFA15A",
           "#19d3f3",
           "#FF6692",
           "#B6E880",
           "#FF97FF",
           "#FECB52"
          ],
          "font": {
           "color": "#2a3f5f"
          },
          "geo": {
           "bgcolor": "white",
           "lakecolor": "white",
           "landcolor": "#E5ECF6",
           "showlakes": true,
           "showland": true,
           "subunitcolor": "white"
          },
          "hoverlabel": {
           "align": "left"
          },
          "hovermode": "closest",
          "mapbox": {
           "style": "light"
          },
          "paper_bgcolor": "white",
          "plot_bgcolor": "#E5ECF6",
          "polar": {
           "angularaxis": {
            "gridcolor": "white",
            "linecolor": "white",
            "ticks": ""
           },
           "bgcolor": "#E5ECF6",
           "radialaxis": {
            "gridcolor": "white",
            "linecolor": "white",
            "ticks": ""
           }
          },
          "scene": {
           "xaxis": {
            "backgroundcolor": "#E5ECF6",
            "gridcolor": "white",
            "gridwidth": 2,
            "linecolor": "white",
            "showbackground": true,
            "ticks": "",
            "zerolinecolor": "white"
           },
           "yaxis": {
            "backgroundcolor": "#E5ECF6",
            "gridcolor": "white",
            "gridwidth": 2,
            "linecolor": "white",
            "showbackground": true,
            "ticks": "",
            "zerolinecolor": "white"
           },
           "zaxis": {
            "backgroundcolor": "#E5ECF6",
            "gridcolor": "white",
            "gridwidth": 2,
            "linecolor": "white",
            "showbackground": true,
            "ticks": "",
            "zerolinecolor": "white"
           }
          },
          "shapedefaults": {
           "line": {
            "color": "#2a3f5f"
           }
          },
          "ternary": {
           "aaxis": {
            "gridcolor": "white",
            "linecolor": "white",
            "ticks": ""
           },
           "baxis": {
            "gridcolor": "white",
            "linecolor": "white",
            "ticks": ""
           },
           "bgcolor": "#E5ECF6",
           "caxis": {
            "gridcolor": "white",
            "linecolor": "white",
            "ticks": ""
           }
          },
          "title": {
           "x": 0.05
          },
          "xaxis": {
           "automargin": true,
           "gridcolor": "white",
           "linecolor": "white",
           "ticks": "",
           "title": {
            "standoff": 15
           },
           "zerolinecolor": "white",
           "zerolinewidth": 2
          },
          "yaxis": {
           "automargin": true,
           "gridcolor": "white",
           "linecolor": "white",
           "ticks": "",
           "title": {
            "standoff": 15
           },
           "zerolinecolor": "white",
           "zerolinewidth": 2
          }
         }
        }
       }
      }
     },
     "metadata": {},
     "output_type": "display_data"
    }
   ],
   "source": [
    "df = pd.read_csv('timeline_2007.csv')\n",
    "# df['y'] = 0\n",
    "\n",
    "fig=go.Figure()\n",
    "\n",
    "fig.add_trace(go.Scatter(\n",
    "    x=df['Date'], \n",
    "    y=np.zeros(len(df)), \n",
    "    # mode='lines',\n",
    "    # showlegend=False,\n",
    "\n",
    "    marker=dict(\n",
    "        symbol='circle',\n",
    "        size = 15, \n",
    "        color='rgba(255,255,255,1)', \n",
    "        \n",
    "    line=dict(\n",
    "        color='rgba(0,0,0,1)', \n",
    "        width = 2),\n",
    "    )\n",
    "))\n",
    "fig.show()\n",
    "\n",
    "\n"
   ]
  },
  {
   "cell_type": "code",
   "execution_count": 105,
   "metadata": {},
   "outputs": [
    {
     "data": {
      "application/vnd.plotly.v1+json": {
       "config": {
        "plotlyServerURL": "https://plot.ly"
       },
       "data": [
        {
         "type": "scatter",
         "x": [
          "2015-02-17",
          "2015-02-18",
          "2015-02-19",
          "2015-02-20",
          "2015-02-23",
          "2015-02-24",
          "2015-02-25",
          "2015-02-26",
          "2015-02-27",
          "2015-03-02",
          "2015-03-03",
          "2015-03-04",
          "2015-03-05",
          "2015-03-06",
          "2015-03-09",
          "2015-03-10",
          "2015-03-11",
          "2015-03-12",
          "2015-03-13",
          "2015-03-16",
          "2015-03-17",
          "2015-03-18",
          "2015-03-19",
          "2015-03-20",
          "2015-03-23",
          "2015-03-24",
          "2015-03-25",
          "2015-03-26",
          "2015-03-27",
          "2015-03-30",
          "2015-03-31",
          "2015-04-01",
          "2015-04-02",
          "2015-04-06",
          "2015-04-07",
          "2015-04-08",
          "2015-04-09",
          "2015-04-10",
          "2015-04-13",
          "2015-04-14",
          "2015-04-15",
          "2015-04-16",
          "2015-04-17",
          "2015-04-20",
          "2015-04-21",
          "2015-04-22",
          "2015-04-23",
          "2015-04-24",
          "2015-04-27",
          "2015-04-28",
          "2015-04-29",
          "2015-04-30",
          "2015-05-01",
          "2015-05-04",
          "2015-05-05",
          "2015-05-06",
          "2015-05-07",
          "2015-05-08",
          "2015-05-11",
          "2015-05-12",
          "2015-05-13",
          "2015-05-14",
          "2015-05-15",
          "2015-05-18",
          "2015-05-19",
          "2015-05-20",
          "2015-05-21",
          "2015-05-22",
          "2015-05-26",
          "2015-05-27",
          "2015-05-28",
          "2015-05-29",
          "2015-06-01",
          "2015-06-02",
          "2015-06-03",
          "2015-06-04",
          "2015-06-05",
          "2015-06-08",
          "2015-06-09",
          "2015-06-10",
          "2015-06-11",
          "2015-06-12",
          "2015-06-15",
          "2015-06-16",
          "2015-06-17",
          "2015-06-18",
          "2015-06-19",
          "2015-06-22",
          "2015-06-23",
          "2015-06-24",
          "2015-06-25",
          "2015-06-26",
          "2015-06-29",
          "2015-06-30",
          "2015-07-01",
          "2015-07-02",
          "2015-07-06",
          "2015-07-07",
          "2015-07-08",
          "2015-07-09",
          "2015-07-10",
          "2015-07-13",
          "2015-07-14",
          "2015-07-15",
          "2015-07-16",
          "2015-07-17",
          "2015-07-20",
          "2015-07-21",
          "2015-07-22",
          "2015-07-23",
          "2015-07-24",
          "2015-07-27",
          "2015-07-28",
          "2015-07-29",
          "2015-07-30",
          "2015-07-31",
          "2015-08-03",
          "2015-08-04",
          "2015-08-05",
          "2015-08-06",
          "2015-08-07",
          "2015-08-10",
          "2015-08-11",
          "2015-08-12",
          "2015-08-13",
          "2015-08-14",
          "2015-08-17",
          "2015-08-18",
          "2015-08-19",
          "2015-08-20",
          "2015-08-21",
          "2015-08-24",
          "2015-08-25",
          "2015-08-26",
          "2015-08-27",
          "2015-08-28",
          "2015-08-31",
          "2015-09-01",
          "2015-09-02",
          "2015-09-03",
          "2015-09-04",
          "2015-09-08",
          "2015-09-09",
          "2015-09-10",
          "2015-09-11",
          "2015-09-14",
          "2015-09-15",
          "2015-09-16",
          "2015-09-17",
          "2015-09-18",
          "2015-09-21",
          "2015-09-22",
          "2015-09-23",
          "2015-09-24",
          "2015-09-25",
          "2015-09-28",
          "2015-09-29",
          "2015-09-30",
          "2015-10-01",
          "2015-10-02",
          "2015-10-05",
          "2015-10-06",
          "2015-10-07",
          "2015-10-08",
          "2015-10-09",
          "2015-10-12",
          "2015-10-13",
          "2015-10-14",
          "2015-10-15",
          "2015-10-16",
          "2015-10-19",
          "2015-10-20",
          "2015-10-21",
          "2015-10-22",
          "2015-10-23",
          "2015-10-26",
          "2015-10-27",
          "2015-10-28",
          "2015-10-29",
          "2015-10-30",
          "2015-11-02",
          "2015-11-03",
          "2015-11-04",
          "2015-11-05",
          "2015-11-06",
          "2015-11-09",
          "2015-11-10",
          "2015-11-11",
          "2015-11-12",
          "2015-11-13",
          "2015-11-16",
          "2015-11-17",
          "2015-11-18",
          "2015-11-19",
          "2015-11-20",
          "2015-11-23",
          "2015-11-24",
          "2015-11-25",
          "2015-11-27",
          "2015-11-30",
          "2015-12-01",
          "2015-12-02",
          "2015-12-03",
          "2015-12-04",
          "2015-12-07",
          "2015-12-08",
          "2015-12-09",
          "2015-12-10",
          "2015-12-11",
          "2015-12-14",
          "2015-12-15",
          "2015-12-16",
          "2015-12-17",
          "2015-12-18",
          "2015-12-21",
          "2015-12-22",
          "2015-12-23",
          "2015-12-24",
          "2015-12-28",
          "2015-12-29",
          "2015-12-30",
          "2015-12-31",
          "2016-01-04",
          "2016-01-05",
          "2016-01-06",
          "2016-01-07",
          "2016-01-08",
          "2016-01-11",
          "2016-01-12",
          "2016-01-13",
          "2016-01-14",
          "2016-01-15",
          "2016-01-19",
          "2016-01-20",
          "2016-01-21",
          "2016-01-22",
          "2016-01-25",
          "2016-01-26",
          "2016-01-27",
          "2016-01-28",
          "2016-01-29",
          "2016-02-01",
          "2016-02-02",
          "2016-02-03",
          "2016-02-04",
          "2016-02-05",
          "2016-02-08",
          "2016-02-09",
          "2016-02-10",
          "2016-02-11",
          "2016-02-12",
          "2016-02-16",
          "2016-02-17",
          "2016-02-18",
          "2016-02-19",
          "2016-02-22",
          "2016-02-23",
          "2016-02-24",
          "2016-02-25",
          "2016-02-26",
          "2016-02-29",
          "2016-03-01",
          "2016-03-02",
          "2016-03-03",
          "2016-03-04",
          "2016-03-07",
          "2016-03-08",
          "2016-03-09",
          "2016-03-10",
          "2016-03-11",
          "2016-03-14",
          "2016-03-15",
          "2016-03-16",
          "2016-03-17",
          "2016-03-18",
          "2016-03-21",
          "2016-03-22",
          "2016-03-23",
          "2016-03-24",
          "2016-03-28",
          "2016-03-29",
          "2016-03-30",
          "2016-03-31",
          "2016-04-01",
          "2016-04-04",
          "2016-04-05",
          "2016-04-06",
          "2016-04-07",
          "2016-04-08",
          "2016-04-11",
          "2016-04-12",
          "2016-04-13",
          "2016-04-14",
          "2016-04-15",
          "2016-04-18",
          "2016-04-19",
          "2016-04-20",
          "2016-04-21",
          "2016-04-22",
          "2016-04-25",
          "2016-04-26",
          "2016-04-27",
          "2016-04-28",
          "2016-04-29",
          "2016-05-02",
          "2016-05-03",
          "2016-05-04",
          "2016-05-05",
          "2016-05-06",
          "2016-05-09",
          "2016-05-10",
          "2016-05-11",
          "2016-05-12",
          "2016-05-13",
          "2016-05-16",
          "2016-05-17",
          "2016-05-18",
          "2016-05-19",
          "2016-05-20",
          "2016-05-23",
          "2016-05-24",
          "2016-05-25",
          "2016-05-26",
          "2016-05-27",
          "2016-05-31",
          "2016-06-01",
          "2016-06-02",
          "2016-06-03",
          "2016-06-06",
          "2016-06-07",
          "2016-06-08",
          "2016-06-09",
          "2016-06-10",
          "2016-06-13",
          "2016-06-14",
          "2016-06-15",
          "2016-06-16",
          "2016-06-17",
          "2016-06-20",
          "2016-06-21",
          "2016-06-22",
          "2016-06-23",
          "2016-06-24",
          "2016-06-27",
          "2016-06-28",
          "2016-06-29",
          "2016-06-30",
          "2016-07-01",
          "2016-07-05",
          "2016-07-06",
          "2016-07-07",
          "2016-07-08",
          "2016-07-11",
          "2016-07-12",
          "2016-07-13",
          "2016-07-14",
          "2016-07-15",
          "2016-07-18",
          "2016-07-19",
          "2016-07-20",
          "2016-07-21",
          "2016-07-22",
          "2016-07-25",
          "2016-07-26",
          "2016-07-27",
          "2016-07-28",
          "2016-07-29",
          "2016-08-01",
          "2016-08-02",
          "2016-08-03",
          "2016-08-04",
          "2016-08-05",
          "2016-08-08",
          "2016-08-09",
          "2016-08-10",
          "2016-08-11",
          "2016-08-12",
          "2016-08-15",
          "2016-08-16",
          "2016-08-17",
          "2016-08-18",
          "2016-08-19",
          "2016-08-22",
          "2016-08-23",
          "2016-08-24",
          "2016-08-25",
          "2016-08-26",
          "2016-08-29",
          "2016-08-30",
          "2016-08-31",
          "2016-09-01",
          "2016-09-02",
          "2016-09-06",
          "2016-09-07",
          "2016-09-08",
          "2016-09-09",
          "2016-09-12",
          "2016-09-13",
          "2016-09-14",
          "2016-09-15",
          "2016-09-16",
          "2016-09-19",
          "2016-09-20",
          "2016-09-21",
          "2016-09-22",
          "2016-09-23",
          "2016-09-26",
          "2016-09-27",
          "2016-09-28",
          "2016-09-29",
          "2016-09-30",
          "2016-10-03",
          "2016-10-04",
          "2016-10-05",
          "2016-10-06",
          "2016-10-07",
          "2016-10-10",
          "2016-10-11",
          "2016-10-12",
          "2016-10-13",
          "2016-10-14",
          "2016-10-17",
          "2016-10-18",
          "2016-10-19",
          "2016-10-20",
          "2016-10-21",
          "2016-10-24",
          "2016-10-25",
          "2016-10-26",
          "2016-10-27",
          "2016-10-28",
          "2016-10-31",
          "2016-11-01",
          "2016-11-02",
          "2016-11-03",
          "2016-11-04",
          "2016-11-07",
          "2016-11-08",
          "2016-11-09",
          "2016-11-10",
          "2016-11-11",
          "2016-11-14",
          "2016-11-15",
          "2016-11-16",
          "2016-11-17",
          "2016-11-18",
          "2016-11-21",
          "2016-11-22",
          "2016-11-23",
          "2016-11-25",
          "2016-11-28",
          "2016-11-29",
          "2016-11-30",
          "2016-12-01",
          "2016-12-02",
          "2016-12-05",
          "2016-12-06",
          "2016-12-07",
          "2016-12-08",
          "2016-12-09",
          "2016-12-12",
          "2016-12-13",
          "2016-12-14",
          "2016-12-15",
          "2016-12-16",
          "2016-12-19",
          "2016-12-20",
          "2016-12-21",
          "2016-12-22",
          "2016-12-23",
          "2016-12-27",
          "2016-12-28",
          "2016-12-29",
          "2016-12-30",
          "2017-01-03",
          "2017-01-04",
          "2017-01-05",
          "2017-01-06",
          "2017-01-09",
          "2017-01-10",
          "2017-01-11",
          "2017-01-12",
          "2017-01-13",
          "2017-01-17",
          "2017-01-18",
          "2017-01-19",
          "2017-01-20",
          "2017-01-23",
          "2017-01-24",
          "2017-01-25",
          "2017-01-26",
          "2017-01-27",
          "2017-01-30",
          "2017-01-31",
          "2017-02-01",
          "2017-02-02",
          "2017-02-03",
          "2017-02-06",
          "2017-02-07",
          "2017-02-08",
          "2017-02-09",
          "2017-02-10",
          "2017-02-13",
          "2017-02-14",
          "2017-02-15",
          "2017-02-16"
         ],
         "y": [
          128.880005,
          128.779999,
          129.029999,
          129.5,
          133,
          133.600006,
          131.600006,
          130.869995,
          130.570007,
          130.279999,
          129.520004,
          129.559998,
          128.75,
          129.369995,
          129.570007,
          127.220001,
          124.769997,
          124.900002,
          125.400002,
          124.949997,
          127.32,
          129.160004,
          129.25,
          128.399994,
          127.849998,
          128.039993,
          126.82,
          124.879997,
          124.699997,
          126.400002,
          126.489998,
          125.120003,
          125.559998,
          127.510002,
          128.119995,
          126.400002,
          126.580002,
          127.209999,
          128.570007,
          127.290001,
          127.129997,
          127.099998,
          126.139999,
          128.119995,
          128.199997,
          128.869995,
          130.419998,
          130.630005,
          133.130005,
          134.539993,
          131.589996,
          128.639999,
          130.130005,
          130.570007,
          128.449997,
          126.75,
          126.080002,
          127.620003,
          127.559998,
          126.879997,
          127.190002,
          128.949997,
          129.490005,
          130.720001,
          130.880005,
          130.979996,
          131.630005,
          132.970001,
          132.910004,
          132.259995,
          131.949997,
          131.449997,
          131.389999,
          130.660004,
          130.940002,
          130.580002,
          129.690002,
          129.210007,
          128.080002,
          129.339996,
          130.179993,
          128.330002,
          127.239998,
          127.849998,
          127.879997,
          128.309998,
          127.82,
          128.059998,
          127.610001,
          129.800003,
          129.199997,
          127.989998,
          126.470001,
          126.120003,
          126.940002,
          126.690002,
          126.230003,
          126.150002,
          124.639999,
          124.059998,
          123.849998,
          125.760002,
          126.370003,
          127.150002,
          128.570007,
          129.619995,
          132.970001,
          132.919998,
          125.5,
          127.089996,
          125.739998,
          123.610001,
          123.910004,
          123.5,
          122.57,
          122.639999,
          122.57,
          117.699997,
          117.440002,
          116.5,
          116.25,
          119.989998,
          118.18,
          115.419998,
          116.400002,
          116.309998,
          117.650002,
          117.440002,
          116.519997,
          114.349998,
          111.900002,
          108.800003,
          111.110001,
          109.889999,
          113.239998,
          113.309998,
          114.529999,
          111.879997,
          112.339996,
          112.779999,
          110.449997,
          112.559998,
          114.019997,
          113.279999,
          114.209999,
          116.889999,
          116.529999,
          116.540001,
          116.489998,
          114.300003,
          115.370003,
          114.18,
          114.720001,
          115.5,
          116.690002,
          114.57,
          113.510002,
          111.540001,
          109.620003,
          111.010002,
          111.370003,
          111.739998,
          111.769997,
          110.190002,
          112.279999,
          112.75,
          112.449997,
          111.519997,
          112.099998,
          112,
          111.75,
          114.169998,
          115.580002,
          115.5,
          119.230003,
          118.129997,
          116.540001,
          119.300003,
          120.690002,
          121.220001,
          121.360001,
          123.489998,
          123.82,
          122.690002,
          121.809998,
          121.809998,
          118.07,
          117.419998,
          116.82,
          115.57,
          114.239998,
          115.050003,
          117.489998,
          119.75,
          119.919998,
          119.730003,
          119.349998,
          119.230003,
          118.410004,
          119.410004,
          118.809998,
          118.110001,
          116.790001,
          119.25,
          119.860001,
          118.599998,
          117.690002,
          116.940002,
          115.389999,
          112.68,
          112.800003,
          111.989998,
          112.25,
          109.519997,
          107.370003,
          107.720001,
          108.849998,
          109,
          107.690002,
          109.43,
          108.699997,
          107.029999,
          105.370003,
          105.849998,
          102.370003,
          100.129997,
          99.110001,
          99.059998,
          100.690002,
          101.190002,
          100.480003,
          97.709999,
          98.650002,
          98.190002,
          97.879997,
          101.459999,
          101.529999,
          100.879997,
          96.629997,
          94.519997,
          97.339996,
          96.709999,
          96.040001,
          96.839996,
          97.330002,
          96.919998,
          95.699997,
          95.940002,
          96.349998,
          94.720001,
          94.5,
          96.849998,
          98.209999,
          98.889999,
          96.760002,
          96.900002,
          96.5,
          96.379997,
          96.760002,
          98.019997,
          98.230003,
          100.769997,
          100.889999,
          101.709999,
          103.75,
          102.830002,
          101.760002,
          101.580002,
          102.239998,
          102.279999,
          102.910004,
          105.18,
          106.309998,
          106.470001,
          106.5,
          107.650002,
          107.290001,
          107.07,
          106.25,
          106.190002,
          107.790001,
          110.419998,
          109.900002,
          110,
          112.190002,
          110.730003,
          110.980003,
          110.419998,
          109.769997,
          110.610001,
          110.5,
          112.339996,
          112.389999,
          112.300003,
          108.949997,
          108,
          108.089996,
          106.93,
          106.480003,
          105.650002,
          105.300003,
          98.709999,
          97.879997,
          94.720001,
          94.080002,
          95.739998,
          95.900002,
          94.07,
          93.449997,
          93.769997,
          93.57,
          93.57,
          92.779999,
          91.669998,
          94.389999,
          94.699997,
          95.209999,
          94.639999,
          95.43,
          97.190002,
          98.089996,
          99.739998,
          100.730003,
          100.470001,
          100.400002,
          99.540001,
          97.839996,
          98.269997,
          101.889999,
          99.870003,
          99.559998,
          99.989998,
          99.349998,
          99.120003,
          98.480003,
          98.410004,
          97.75,
          96.650002,
          96.57,
          96.349998,
          96.889999,
          96.290001,
          94.660004,
          93.050003,
          93.660004,
          94.550003,
          95.769997,
          96.470001,
          95.400002,
          95.660004,
          96.5,
          96.889999,
          97.650002,
          97.699997,
          97.669998,
          98.989998,
          99.300003,
          100.129997,
          100,
          100.459999,
          101,
          99.300003,
          98.839996,
          97.970001,
          104.349998,
          104.449997,
          104.550003,
          106.150002,
          106.07,
          105.839996,
          106,
          107.650002,
          108.370003,
          108.940002,
          108.900002,
          108.93,
          108.440002,
          109.540001,
          110.230003,
          109.370003,
          109.599998,
          109.690002,
          109.099998,
          109.32,
          108.75,
          107.879997,
          107.949997,
          107.440002,
          106.5,
          106.57,
          106.800003,
          108,
          108.300003,
          108.760002,
          107.269997,
          105.720001,
          105.720001,
          108.790001,
          113.029999,
          115.730003,
          116.129997,
          116.18,
          114.120003,
          113.989998,
          114.940002,
          114.790001,
          113.389999,
          113.18,
          114.639999,
          113.800003,
          113.370003,
          113.050003,
          114.309998,
          113.660004,
          114.339996,
          114.559998,
          116.75,
          118.690002,
          117.980003,
          117.440002,
          118.169998,
          117.839996,
          118.209999,
          117.760002,
          117.379997,
          116.910004,
          117.739998,
          118.360001,
          115.699997,
          115.860001,
          115.209999,
          114.230003,
          113.769997,
          112.349998,
          111.459999,
          110.25,
          110.510002,
          111.720001,
          111.32,
          111.089996,
          108.870003,
          107.809998,
          107.68,
          110.230003,
          110.349998,
          110.540001,
          111.989998,
          112.419998,
          111.510002,
          111.870003,
          112.470001,
          112.029999,
          112.199997,
          110.940002,
          110.089996,
          110.029999,
          110.360001,
          111.190002,
          112.43,
          114.699997,
          115,
          115.919998,
          116.199997,
          116.730003,
          116.5,
          117.379997,
          117.5,
          117.400002,
          116.510002,
          116.519997,
          117.800003,
          118.019997,
          117.110001,
          117.199997,
          116.330002,
          116.510002,
          116.860001,
          118.160004,
          119.43,
          119.379997,
          119.93,
          119.300003,
          119.620003,
          120.239998,
          120.5,
          120.089996,
          120.449997,
          120.809998,
          120.099998,
          122.099998,
          122.440002,
          122.349998,
          121.629997,
          121.389999,
          130.490005,
          129.389999,
          129.190002,
          130.5,
          132.089996,
          132.220001,
          132.449997,
          132.940002,
          133.820007,
          135.089996,
          136.270004,
          135.899994
         ]
        }
       ],
       "layout": {
        "template": {
         "data": {
          "bar": [
           {
            "error_x": {
             "color": "#2a3f5f"
            },
            "error_y": {
             "color": "#2a3f5f"
            },
            "marker": {
             "line": {
              "color": "#E5ECF6",
              "width": 0.5
             },
             "pattern": {
              "fillmode": "overlay",
              "size": 10,
              "solidity": 0.2
             }
            },
            "type": "bar"
           }
          ],
          "barpolar": [
           {
            "marker": {
             "line": {
              "color": "#E5ECF6",
              "width": 0.5
             },
             "pattern": {
              "fillmode": "overlay",
              "size": 10,
              "solidity": 0.2
             }
            },
            "type": "barpolar"
           }
          ],
          "carpet": [
           {
            "aaxis": {
             "endlinecolor": "#2a3f5f",
             "gridcolor": "white",
             "linecolor": "white",
             "minorgridcolor": "white",
             "startlinecolor": "#2a3f5f"
            },
            "baxis": {
             "endlinecolor": "#2a3f5f",
             "gridcolor": "white",
             "linecolor": "white",
             "minorgridcolor": "white",
             "startlinecolor": "#2a3f5f"
            },
            "type": "carpet"
           }
          ],
          "choropleth": [
           {
            "colorbar": {
             "outlinewidth": 0,
             "ticks": ""
            },
            "type": "choropleth"
           }
          ],
          "contour": [
           {
            "colorbar": {
             "outlinewidth": 0,
             "ticks": ""
            },
            "colorscale": [
             [
              0,
              "#0d0887"
             ],
             [
              0.1111111111111111,
              "#46039f"
             ],
             [
              0.2222222222222222,
              "#7201a8"
             ],
             [
              0.3333333333333333,
              "#9c179e"
             ],
             [
              0.4444444444444444,
              "#bd3786"
             ],
             [
              0.5555555555555556,
              "#d8576b"
             ],
             [
              0.6666666666666666,
              "#ed7953"
             ],
             [
              0.7777777777777778,
              "#fb9f3a"
             ],
             [
              0.8888888888888888,
              "#fdca26"
             ],
             [
              1,
              "#f0f921"
             ]
            ],
            "type": "contour"
           }
          ],
          "contourcarpet": [
           {
            "colorbar": {
             "outlinewidth": 0,
             "ticks": ""
            },
            "type": "contourcarpet"
           }
          ],
          "heatmap": [
           {
            "colorbar": {
             "outlinewidth": 0,
             "ticks": ""
            },
            "colorscale": [
             [
              0,
              "#0d0887"
             ],
             [
              0.1111111111111111,
              "#46039f"
             ],
             [
              0.2222222222222222,
              "#7201a8"
             ],
             [
              0.3333333333333333,
              "#9c179e"
             ],
             [
              0.4444444444444444,
              "#bd3786"
             ],
             [
              0.5555555555555556,
              "#d8576b"
             ],
             [
              0.6666666666666666,
              "#ed7953"
             ],
             [
              0.7777777777777778,
              "#fb9f3a"
             ],
             [
              0.8888888888888888,
              "#fdca26"
             ],
             [
              1,
              "#f0f921"
             ]
            ],
            "type": "heatmap"
           }
          ],
          "heatmapgl": [
           {
            "colorbar": {
             "outlinewidth": 0,
             "ticks": ""
            },
            "colorscale": [
             [
              0,
              "#0d0887"
             ],
             [
              0.1111111111111111,
              "#46039f"
             ],
             [
              0.2222222222222222,
              "#7201a8"
             ],
             [
              0.3333333333333333,
              "#9c179e"
             ],
             [
              0.4444444444444444,
              "#bd3786"
             ],
             [
              0.5555555555555556,
              "#d8576b"
             ],
             [
              0.6666666666666666,
              "#ed7953"
             ],
             [
              0.7777777777777778,
              "#fb9f3a"
             ],
             [
              0.8888888888888888,
              "#fdca26"
             ],
             [
              1,
              "#f0f921"
             ]
            ],
            "type": "heatmapgl"
           }
          ],
          "histogram": [
           {
            "marker": {
             "pattern": {
              "fillmode": "overlay",
              "size": 10,
              "solidity": 0.2
             }
            },
            "type": "histogram"
           }
          ],
          "histogram2d": [
           {
            "colorbar": {
             "outlinewidth": 0,
             "ticks": ""
            },
            "colorscale": [
             [
              0,
              "#0d0887"
             ],
             [
              0.1111111111111111,
              "#46039f"
             ],
             [
              0.2222222222222222,
              "#7201a8"
             ],
             [
              0.3333333333333333,
              "#9c179e"
             ],
             [
              0.4444444444444444,
              "#bd3786"
             ],
             [
              0.5555555555555556,
              "#d8576b"
             ],
             [
              0.6666666666666666,
              "#ed7953"
             ],
             [
              0.7777777777777778,
              "#fb9f3a"
             ],
             [
              0.8888888888888888,
              "#fdca26"
             ],
             [
              1,
              "#f0f921"
             ]
            ],
            "type": "histogram2d"
           }
          ],
          "histogram2dcontour": [
           {
            "colorbar": {
             "outlinewidth": 0,
             "ticks": ""
            },
            "colorscale": [
             [
              0,
              "#0d0887"
             ],
             [
              0.1111111111111111,
              "#46039f"
             ],
             [
              0.2222222222222222,
              "#7201a8"
             ],
             [
              0.3333333333333333,
              "#9c179e"
             ],
             [
              0.4444444444444444,
              "#bd3786"
             ],
             [
              0.5555555555555556,
              "#d8576b"
             ],
             [
              0.6666666666666666,
              "#ed7953"
             ],
             [
              0.7777777777777778,
              "#fb9f3a"
             ],
             [
              0.8888888888888888,
              "#fdca26"
             ],
             [
              1,
              "#f0f921"
             ]
            ],
            "type": "histogram2dcontour"
           }
          ],
          "mesh3d": [
           {
            "colorbar": {
             "outlinewidth": 0,
             "ticks": ""
            },
            "type": "mesh3d"
           }
          ],
          "parcoords": [
           {
            "line": {
             "colorbar": {
              "outlinewidth": 0,
              "ticks": ""
             }
            },
            "type": "parcoords"
           }
          ],
          "pie": [
           {
            "automargin": true,
            "type": "pie"
           }
          ],
          "scatter": [
           {
            "fillpattern": {
             "fillmode": "overlay",
             "size": 10,
             "solidity": 0.2
            },
            "type": "scatter"
           }
          ],
          "scatter3d": [
           {
            "line": {
             "colorbar": {
              "outlinewidth": 0,
              "ticks": ""
             }
            },
            "marker": {
             "colorbar": {
              "outlinewidth": 0,
              "ticks": ""
             }
            },
            "type": "scatter3d"
           }
          ],
          "scattercarpet": [
           {
            "marker": {
             "colorbar": {
              "outlinewidth": 0,
              "ticks": ""
             }
            },
            "type": "scattercarpet"
           }
          ],
          "scattergeo": [
           {
            "marker": {
             "colorbar": {
              "outlinewidth": 0,
              "ticks": ""
             }
            },
            "type": "scattergeo"
           }
          ],
          "scattergl": [
           {
            "marker": {
             "colorbar": {
              "outlinewidth": 0,
              "ticks": ""
             }
            },
            "type": "scattergl"
           }
          ],
          "scattermapbox": [
           {
            "marker": {
             "colorbar": {
              "outlinewidth": 0,
              "ticks": ""
             }
            },
            "type": "scattermapbox"
           }
          ],
          "scatterpolar": [
           {
            "marker": {
             "colorbar": {
              "outlinewidth": 0,
              "ticks": ""
             }
            },
            "type": "scatterpolar"
           }
          ],
          "scatterpolargl": [
           {
            "marker": {
             "colorbar": {
              "outlinewidth": 0,
              "ticks": ""
             }
            },
            "type": "scatterpolargl"
           }
          ],
          "scatterternary": [
           {
            "marker": {
             "colorbar": {
              "outlinewidth": 0,
              "ticks": ""
             }
            },
            "type": "scatterternary"
           }
          ],
          "surface": [
           {
            "colorbar": {
             "outlinewidth": 0,
             "ticks": ""
            },
            "colorscale": [
             [
              0,
              "#0d0887"
             ],
             [
              0.1111111111111111,
              "#46039f"
             ],
             [
              0.2222222222222222,
              "#7201a8"
             ],
             [
              0.3333333333333333,
              "#9c179e"
             ],
             [
              0.4444444444444444,
              "#bd3786"
             ],
             [
              0.5555555555555556,
              "#d8576b"
             ],
             [
              0.6666666666666666,
              "#ed7953"
             ],
             [
              0.7777777777777778,
              "#fb9f3a"
             ],
             [
              0.8888888888888888,
              "#fdca26"
             ],
             [
              1,
              "#f0f921"
             ]
            ],
            "type": "surface"
           }
          ],
          "table": [
           {
            "cells": {
             "fill": {
              "color": "#EBF0F8"
             },
             "line": {
              "color": "white"
             }
            },
            "header": {
             "fill": {
              "color": "#C8D4E3"
             },
             "line": {
              "color": "white"
             }
            },
            "type": "table"
           }
          ]
         },
         "layout": {
          "annotationdefaults": {
           "arrowcolor": "#2a3f5f",
           "arrowhead": 0,
           "arrowwidth": 1
          },
          "autotypenumbers": "strict",
          "coloraxis": {
           "colorbar": {
            "outlinewidth": 0,
            "ticks": ""
           }
          },
          "colorscale": {
           "diverging": [
            [
             0,
             "#8e0152"
            ],
            [
             0.1,
             "#c51b7d"
            ],
            [
             0.2,
             "#de77ae"
            ],
            [
             0.3,
             "#f1b6da"
            ],
            [
             0.4,
             "#fde0ef"
            ],
            [
             0.5,
             "#f7f7f7"
            ],
            [
             0.6,
             "#e6f5d0"
            ],
            [
             0.7,
             "#b8e186"
            ],
            [
             0.8,
             "#7fbc41"
            ],
            [
             0.9,
             "#4d9221"
            ],
            [
             1,
             "#276419"
            ]
           ],
           "sequential": [
            [
             0,
             "#0d0887"
            ],
            [
             0.1111111111111111,
             "#46039f"
            ],
            [
             0.2222222222222222,
             "#7201a8"
            ],
            [
             0.3333333333333333,
             "#9c179e"
            ],
            [
             0.4444444444444444,
             "#bd3786"
            ],
            [
             0.5555555555555556,
             "#d8576b"
            ],
            [
             0.6666666666666666,
             "#ed7953"
            ],
            [
             0.7777777777777778,
             "#fb9f3a"
            ],
            [
             0.8888888888888888,
             "#fdca26"
            ],
            [
             1,
             "#f0f921"
            ]
           ],
           "sequentialminus": [
            [
             0,
             "#0d0887"
            ],
            [
             0.1111111111111111,
             "#46039f"
            ],
            [
             0.2222222222222222,
             "#7201a8"
            ],
            [
             0.3333333333333333,
             "#9c179e"
            ],
            [
             0.4444444444444444,
             "#bd3786"
            ],
            [
             0.5555555555555556,
             "#d8576b"
            ],
            [
             0.6666666666666666,
             "#ed7953"
            ],
            [
             0.7777777777777778,
             "#fb9f3a"
            ],
            [
             0.8888888888888888,
             "#fdca26"
            ],
            [
             1,
             "#f0f921"
            ]
           ]
          },
          "colorway": [
           "#636efa",
           "#EF553B",
           "#00cc96",
           "#ab63fa",
           "#FFA15A",
           "#19d3f3",
           "#FF6692",
           "#B6E880",
           "#FF97FF",
           "#FECB52"
          ],
          "font": {
           "color": "#2a3f5f"
          },
          "geo": {
           "bgcolor": "white",
           "lakecolor": "white",
           "landcolor": "#E5ECF6",
           "showlakes": true,
           "showland": true,
           "subunitcolor": "white"
          },
          "hoverlabel": {
           "align": "left"
          },
          "hovermode": "closest",
          "mapbox": {
           "style": "light"
          },
          "paper_bgcolor": "white",
          "plot_bgcolor": "#E5ECF6",
          "polar": {
           "angularaxis": {
            "gridcolor": "white",
            "linecolor": "white",
            "ticks": ""
           },
           "bgcolor": "#E5ECF6",
           "radialaxis": {
            "gridcolor": "white",
            "linecolor": "white",
            "ticks": ""
           }
          },
          "scene": {
           "xaxis": {
            "backgroundcolor": "#E5ECF6",
            "gridcolor": "white",
            "gridwidth": 2,
            "linecolor": "white",
            "showbackground": true,
            "ticks": "",
            "zerolinecolor": "white"
           },
           "yaxis": {
            "backgroundcolor": "#E5ECF6",
            "gridcolor": "white",
            "gridwidth": 2,
            "linecolor": "white",
            "showbackground": true,
            "ticks": "",
            "zerolinecolor": "white"
           },
           "zaxis": {
            "backgroundcolor": "#E5ECF6",
            "gridcolor": "white",
            "gridwidth": 2,
            "linecolor": "white",
            "showbackground": true,
            "ticks": "",
            "zerolinecolor": "white"
           }
          },
          "shapedefaults": {
           "line": {
            "color": "#2a3f5f"
           }
          },
          "ternary": {
           "aaxis": {
            "gridcolor": "white",
            "linecolor": "white",
            "ticks": ""
           },
           "baxis": {
            "gridcolor": "white",
            "linecolor": "white",
            "ticks": ""
           },
           "bgcolor": "#E5ECF6",
           "caxis": {
            "gridcolor": "white",
            "linecolor": "white",
            "ticks": ""
           }
          },
          "title": {
           "x": 0.05
          },
          "xaxis": {
           "automargin": true,
           "gridcolor": "white",
           "linecolor": "white",
           "ticks": "",
           "title": {
            "standoff": 15
           },
           "zerolinecolor": "white",
           "zerolinewidth": 2
          },
          "yaxis": {
           "automargin": true,
           "gridcolor": "white",
           "linecolor": "white",
           "ticks": "",
           "title": {
            "standoff": 15
           },
           "zerolinecolor": "white",
           "zerolinewidth": 2
          }
         }
        }
       }
      }
     },
     "metadata": {},
     "output_type": "display_data"
    }
   ],
   "source": [
    "# Using graph_objects\n",
    "import plotly.graph_objects as go\n",
    "\n",
    "import pandas as pd\n",
    "df = pd.read_csv('https://raw.githubusercontent.com/plotly/datasets/master/finance-charts-apple.csv')\n",
    "\n",
    "fig = go.Figure([go.Scatter(x=df['Date'], y=df['AAPL.High'])])\n",
    "fig.show()\n",
    "\n"
   ]
  },
  {
   "cell_type": "code",
   "execution_count": 106,
   "metadata": {},
   "outputs": [
    {
     "data": {
      "text/plain": [
       "array([0., 0., 0., 0., 0., 0., 0., 0., 0., 0., 0., 0., 0., 0., 0., 0., 0.,\n",
       "       0., 0., 0., 0., 0., 0., 0., 0., 0., 0., 0., 0., 0., 0., 0., 0., 0.,\n",
       "       0., 0., 0., 0., 0., 0., 0., 0., 0., 0., 0., 0., 0., 0., 0., 0., 0.,\n",
       "       0., 0., 0., 0., 0., 0., 0., 0., 0., 0., 0., 0., 0., 0., 0., 0., 0.,\n",
       "       0., 0., 0., 0., 0., 0., 0., 0., 0., 0., 0., 0., 0., 0., 0., 0., 0.,\n",
       "       0., 0., 0., 0., 0., 0., 0., 0., 0., 0., 0., 0., 0., 0., 0., 0., 0.,\n",
       "       0., 0., 0., 0., 0., 0., 0., 0., 0., 0., 0., 0., 0., 0., 0., 0., 0.,\n",
       "       0., 0., 0., 0., 0., 0., 0., 0., 0., 0., 0., 0., 0., 0., 0., 0., 0.,\n",
       "       0., 0., 0., 0., 0., 0., 0., 0., 0., 0., 0., 0., 0., 0., 0., 0., 0.,\n",
       "       0., 0., 0., 0., 0., 0., 0., 0., 0., 0., 0., 0., 0., 0., 0., 0., 0.,\n",
       "       0., 0., 0., 0., 0., 0., 0., 0., 0., 0., 0., 0., 0., 0., 0., 0., 0.,\n",
       "       0., 0., 0., 0., 0., 0., 0., 0., 0., 0., 0., 0., 0., 0., 0., 0., 0.,\n",
       "       0., 0., 0., 0., 0., 0., 0., 0., 0., 0., 0., 0., 0., 0., 0., 0., 0.,\n",
       "       0., 0., 0., 0., 0., 0., 0., 0., 0., 0., 0., 0., 0., 0., 0., 0., 0.,\n",
       "       0., 0., 0., 0., 0., 0., 0., 0., 0., 0., 0., 0., 0., 0., 0., 0., 0.,\n",
       "       0., 0., 0., 0., 0., 0., 0., 0., 0., 0., 0., 0., 0., 0., 0., 0., 0.,\n",
       "       0., 0., 0., 0., 0., 0., 0., 0., 0., 0., 0., 0., 0., 0., 0., 0., 0.,\n",
       "       0., 0., 0., 0., 0., 0., 0., 0., 0., 0., 0., 0., 0., 0., 0., 0., 0.,\n",
       "       0., 0., 0., 0., 0., 0., 0., 0., 0., 0., 0., 0., 0., 0., 0., 0., 0.,\n",
       "       0., 0., 0., 0., 0., 0., 0., 0., 0., 0., 0., 0., 0., 0., 0., 0., 0.,\n",
       "       0., 0., 0., 0., 0., 0., 0., 0., 0., 0., 0., 0., 0., 0., 0., 0., 0.,\n",
       "       0., 0., 0., 0., 0., 0., 0., 0., 0., 0., 0., 0., 0., 0., 0., 0., 0.,\n",
       "       0., 0., 0., 0., 0., 0., 0., 0., 0., 0., 0., 0., 0., 0., 0., 0., 0.,\n",
       "       0., 0., 0., 0., 0., 0., 0., 0., 0., 0., 0., 0., 0., 0., 0., 0., 0.,\n",
       "       0., 0., 0., 0., 0., 0., 0., 0., 0., 0., 0., 0., 0., 0., 0., 0., 0.,\n",
       "       0., 0., 0., 0., 0., 0., 0., 0., 0., 0., 0., 0., 0., 0., 0., 0., 0.,\n",
       "       0., 0., 0., 0., 0., 0., 0., 0., 0., 0., 0., 0., 0., 0., 0., 0., 0.,\n",
       "       0., 0., 0., 0., 0., 0., 0., 0., 0., 0., 0., 0., 0., 0., 0., 0., 0.,\n",
       "       0., 0., 0., 0., 0., 0., 0., 0., 0., 0., 0., 0., 0., 0., 0., 0., 0.,\n",
       "       0., 0., 0., 0., 0., 0., 0., 0., 0., 0., 0., 0., 0.])"
      ]
     },
     "execution_count": 106,
     "metadata": {},
     "output_type": "execute_result"
    }
   ],
   "source": [
    "np.zeros(len(df))"
   ]
  },
  {
   "cell_type": "code",
   "execution_count": 107,
   "metadata": {},
   "outputs": [
    {
     "data": {
      "text/plain": [
       "Date              object\n",
       "AAPL.Open        float64\n",
       "AAPL.High        float64\n",
       "AAPL.Low         float64\n",
       "AAPL.Close       float64\n",
       "AAPL.Volume        int64\n",
       "AAPL.Adjusted    float64\n",
       "dn               float64\n",
       "mavg             float64\n",
       "up               float64\n",
       "direction         object\n",
       "dtype: object"
      ]
     },
     "execution_count": 107,
     "metadata": {},
     "output_type": "execute_result"
    }
   ],
   "source": [
    "df.dtypes"
   ]
  }
 ],
 "metadata": {
  "kernelspec": {
   "display_name": "base_kernel",
   "language": "python",
   "name": "base_kernel"
  },
  "language_info": {
   "codemirror_mode": {
    "name": "ipython",
    "version": 3
   },
   "file_extension": ".py",
   "mimetype": "text/x-python",
   "name": "python",
   "nbconvert_exporter": "python",
   "pygments_lexer": "ipython3",
   "version": "3.9.12"
  }
 },
 "nbformat": 4,
 "nbformat_minor": 2
}
