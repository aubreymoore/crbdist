{
 "cells": [
  {
   "cell_type": "markdown",
   "metadata": {},
   "source": [
    "This script simply adds 360 to all negative longitude coordinates to solve the problem of properly displaying points on both sides of the international dateline."
   ]
  },
  {
   "cell_type": "code",
   "execution_count": 36,
   "metadata": {
    "collapsed": false
   },
   "outputs": [],
   "source": [
    "import json\n",
    "\n",
    "with open('crbdist2.geojson', 'r') as f:\n",
    "     data = json.load(f)\n",
    "\n",
    "for feature in data['features']:\n",
    "    longitude = feature['geometry']['coordinates'][0]\n",
    "    if longitude < 0:\n",
    "        print(longitude)\n",
    "        feature['geometry']['coordinates'][0] = longitude + 360.0       \n",
    "\n",
    "with open('crbdist3.geojson', 'w') as f:\n",
    "    json.dump(data, f)"
   ]
  }
 ],
 "metadata": {
  "kernelspec": {
   "display_name": "Python 3",
   "language": "python",
   "name": "python3"
  },
  "language_info": {
   "codemirror_mode": {
    "name": "ipython",
    "version": 3
   },
   "file_extension": ".py",
   "mimetype": "text/x-python",
   "name": "python",
   "nbconvert_exporter": "python",
   "pygments_lexer": "ipython3",
   "version": "3.5.2"
  }
 },
 "nbformat": 4,
 "nbformat_minor": 0
}
